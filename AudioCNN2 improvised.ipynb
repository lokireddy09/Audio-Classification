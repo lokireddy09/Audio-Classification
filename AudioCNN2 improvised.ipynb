{
 "cells": [
  {
   "cell_type": "markdown",
   "metadata": {
    "id": "s1NnjUdWjGaC"
   },
   "source": []
  },
  {
   "cell_type": "markdown",
   "metadata": {
    "id": "s5ub8ajdIMl1"
   },
   "source": [
    "Import Libraries"
   ]
  },
  {
   "cell_type": "code",
   "execution_count": 3,
   "metadata": {
    "id": "xQbUsUzke6-X"
   },
   "outputs": [],
   "source": [
    "import pandas as pd\n",
    "import os\n",
    "import librosa\n",
    "import librosa.display\n",
    "import numpy as np\n",
    "import IPython.display as ipd\n",
    "import matplotlib.pyplot as plt\n",
    "import scipy as sp\n",
    "import shutil\n",
    "import dask.array as da\n",
    "import h5py\n",
    "import glob\n",
    "import imageio\n",
    "from dask.array.image import imread\n",
    "import dask_image.imread\n",
    "import dask_image.ndfilters\n",
    "import dask_image.ndmeasure\n",
    "from datetime import datetime \n",
    "from keras.layers import Conv2D, MaxPooling2D, Dense, Flatten\n",
    "from keras.layers import Dropout, Input, BatchNormalization\n",
    "from keras.optimizers import adam_v2\n",
    "from IPython.display import display\n",
    "from PIL import Image\n",
    "#from keras.preprocessing.image import ImageDataGenerator\n",
    "from keras.utils import np_utils\n",
    "from matplotlib import pyplot as plt\n",
    "from keras.models import Model, load_model\n",
    "from tensorflow.keras.callbacks import ModelCheckpoint\n",
    "%matplotlib inline"
   ]
  },
  {
   "cell_type": "markdown",
   "metadata": {
    "id": "eEvo_znWqpET"
   },
   "source": [
    "One audio file"
   ]
  },
  {
   "cell_type": "code",
   "execution_count": 4,
   "metadata": {
    "colab": {
     "base_uri": "https://localhost:8080/",
     "height": 296
    },
    "id": "rIbsg5MoqoDT",
    "outputId": "d0df9f0c-8ff4-4a05-c02e-bd0a741fe6b7"
   },
   "outputs": [
    {
     "data": {
      "text/plain": [
       "<matplotlib.collections.PolyCollection at 0x1deb69c9ca0>"
      ]
     },
     "execution_count": 4,
     "metadata": {},
     "output_type": "execute_result"
    },
    {
     "data": {
      "image/png": "[encoded data removed]",
      "text/plain": [
       "<Figure size 432x288 with 1 Axes>"
      ]
     },
     "metadata": {
      "needs_background": "light"
     },
     "output_type": "display_data"
    }
   ],
   "source": [
    "file_name='Audio_labelled_2/fold1/1-1-01-01.wav'\n",
    "audio_data, sampling_rate = librosa.load(file_name)\n",
    "librosa.display.waveplot(audio_data,sr=sampling_rate)\n",
    "#ipd.Audio(file_name)"
   ]
  },
  {
   "cell_type": "markdown",
   "metadata": {
    "id": "xRMs8W9i-Znt"
   },
   "source": [
    "#Load Audio csv with labels"
   ]
  },
  {
   "cell_type": "code",
   "execution_count": 7,
   "metadata": {
    "id": "UQpM4HCzraL-"
   },
   "outputs": [],
   "source": [
    "df = pd.read_csv(\"Audio_labelled_2/Label1.csv\")"
   ]
  },
  {
   "cell_type": "code",
   "execution_count": 9,
   "metadata": {
    "colab": {
     "base_uri": "https://localhost:8080/",
     "height": 204
    },
    "id": "A8OlMz7VrcXp",
    "outputId": "ffbad015-c127-411e-d231-536c6170845c"
   },
   "outputs": [
    {
     "data": {
      "text/html": [
       "<div>\n",
       "<style scoped>\n",
       "    .dataframe tbody tr th:only-of-type {\n",
       "        vertical-align: middle;\n",
       "    }\n",
       "\n",
       "    .dataframe tbody tr th {\n",
       "        vertical-align: top;\n",
       "    }\n",
       "\n",
       "    .dataframe thead th {\n",
       "        text-align: right;\n",
       "    }\n",
       "</style>\n",
       "<table border=\"1\" class=\"dataframe\">\n",
       "  <thead>\n",
       "    <tr style=\"text-align: right;\">\n",
       "      <th></th>\n",
       "      <th>slice_file_name</th>\n",
       "      <th>fsID</th>\n",
       "      <th>start</th>\n",
       "      <th>end</th>\n",
       "      <th>duration</th>\n",
       "      <th>fold</th>\n",
       "      <th>classID</th>\n",
       "      <th>class</th>\n",
       "    </tr>\n",
       "  </thead>\n",
       "  <tbody>\n",
       "    <tr>\n",
       "      <th>0</th>\n",
       "      <td>1-1.wav</td>\n",
       "      <td>11</td>\n",
       "      <td>0</td>\n",
       "      <td>201.999</td>\n",
       "      <td>201.999</td>\n",
       "      <td>1</td>\n",
       "      <td>1</td>\n",
       "      <td>SV</td>\n",
       "    </tr>\n",
       "    <tr>\n",
       "      <th>1</th>\n",
       "      <td>3-1.wav</td>\n",
       "      <td>31</td>\n",
       "      <td>202</td>\n",
       "      <td>216.999</td>\n",
       "      <td>14.999</td>\n",
       "      <td>3</td>\n",
       "      <td>3</td>\n",
       "      <td>NV</td>\n",
       "    </tr>\n",
       "    <tr>\n",
       "      <th>2</th>\n",
       "      <td>1-2.wav</td>\n",
       "      <td>12</td>\n",
       "      <td>217</td>\n",
       "      <td>228.999</td>\n",
       "      <td>11.999</td>\n",
       "      <td>1</td>\n",
       "      <td>1</td>\n",
       "      <td>SV</td>\n",
       "    </tr>\n",
       "    <tr>\n",
       "      <th>3</th>\n",
       "      <td>3-2.wav</td>\n",
       "      <td>32</td>\n",
       "      <td>229</td>\n",
       "      <td>234.000</td>\n",
       "      <td>5.000</td>\n",
       "      <td>3</td>\n",
       "      <td>3</td>\n",
       "      <td>NV</td>\n",
       "    </tr>\n",
       "    <tr>\n",
       "      <th>4</th>\n",
       "      <td>1-3.wav</td>\n",
       "      <td>13</td>\n",
       "      <td>234</td>\n",
       "      <td>378.000</td>\n",
       "      <td>144.000</td>\n",
       "      <td>1</td>\n",
       "      <td>1</td>\n",
       "      <td>SV</td>\n",
       "    </tr>\n",
       "  </tbody>\n",
       "</table>\n",
       "</div>"
      ],
      "text/plain": [
       "  slice_file_name  fsID  start            end  duration  fold  classID class\n",
       "0         1-1.wav    11            0  201.999   201.999     1        1    SV\n",
       "1         3-1.wav    31          202  216.999    14.999     3        3    NV\n",
       "2         1-2.wav    12          217  228.999    11.999     1        1    SV\n",
       "3         3-2.wav    32          229  234.000     5.000     3        3    NV\n",
       "4         1-3.wav    13          234  378.000   144.000     1        1    SV"
      ]
     },
     "execution_count": 9,
     "metadata": {},
     "output_type": "execute_result"
    }
   ],
   "source": [
    "df.head(5)"
   ]
  },
  {
   "cell_type": "markdown",
   "metadata": {
    "id": "xjgL_9pMrtHG"
   },
   "source": [
    "No of classes"
   ]
  },
  {
   "cell_type": "code",
   "execution_count": 10,
   "metadata": {
    "colab": {
     "base_uri": "https://localhost:8080/"
    },
    "id": "vHao5wObrgah",
    "outputId": "d9f4e6d7-a3a5-4dac-b973-f9a6a9cb58cb"
   },
   "outputs": [
    {
     "data": {
      "text/plain": [
       "SV    18\n",
       "NV    10\n",
       "MV     8\n",
       "Name: class, dtype: int64"
      ]
     },
     "execution_count": 10,
     "metadata": {},
     "output_type": "execute_result"
    }
   ],
   "source": [
    "df[\"class\"].value_counts()"
   ]
  },
  {
   "cell_type": "markdown",
   "metadata": {
    "id": "a1M6D6cSKBM6"
   },
   "source": [
    "#Data preparation.\n",
    "The set of audio files provided in this project is small for training machine learning model. So the approach used is to split the audio files into equal 10 seconds each for all files and labelling them into respective target classes. The assumption is all 10 seconds audio files might have the same signature for respective classes. The we extract the melspectrogram from each file and create an image with 192x192 dimensions. This is necessary because we can train the CNN model on images from audio representation which bears high prediction score."
   ]
  },
  {
   "cell_type": "markdown",
   "metadata": {
    "id": "Bm9Rfedi-tEE"
   },
   "source": [
    "#Function creates an audio image of width 192 and height 192 "
   ]
  },
  {
   "cell_type": "markdown",
   "metadata": {
    "id": "Py2HJICnlAiJ"
   },
   "source": [
    "Since the training sample are less and I have found out that the training data set is leading to overfitting of the model. We are going to try to add more augmented samples for the underepresented classes which are no voice and multiple voice classes\n"
   ]
  },
  {
   "cell_type": "code",
   "execution_count": 11,
   "metadata": {
    "id": "0lzaPb2qMxEN"
   },
   "outputs": [],
   "source": [
    "def wav_to_img(path, height=192, width=192):\n",
    "    signal, sr = librosa.load(path, res_type='kaiser_fast')\n",
    "    hl = signal.shape[0]//(width*1.1) \n",
    "    spec = librosa.feature.melspectrogram(signal, n_mels=height, hop_length=int(hl))\n",
    "    img = librosa.amplitude_to_db(spec)**2\n",
    "    start = (img.shape[1] - width) // 2\n",
    "    return img[:, start:start+width]"
   ]
  },
  {
   "cell_type": "code",
   "execution_count": null,
   "metadata": {
    "id": "gzasnfC8lkQD"
   },
   "outputs": [],
   "source": [
    "#!pip install numpy requests nlpaug\n",
    "#!conda install -c makcedward nlpaug\n",
    "import nlpaug.augmenter.audio as naa\n",
    "from nlpaug.util.audio.visualizer import AudioVisualizer\n",
    "\n",
    "def wav_to_img_augment(path, height=192, width=192 , augment = 0):\n",
    "    signal, sr = librosa.load(path, res_type='kaiser_fast')\n",
    "    #augmentations\n",
    "\n",
    "    if augment == 0: pass\n",
    "    #Crop Augmenter\n",
    "    elif augment == 1 :\n",
    "        aug = naa.CropAug(sampling_rate=sr)\n",
    "        signal = aug.augment(signal)\n",
    "    #loudness Augmenter\n",
    "    elif augment == 2 :\n",
    "        aug = naa.LoudnessAug()\n",
    "        signal = aug.augment(signal)\n",
    "    #Mask Augmenter\n",
    "    elif augment == 3 :\n",
    "        aug = naa.MaskAug(sampling_rate=sr, mask_with_noise=False)\n",
    "        signal = aug.augment(signal)\n",
    "    #Noise Augmenter\n",
    "    elif augment == 4 :\n",
    "        aug = naa.NoiseAug()\n",
    "        signal = aug.augment(signal)\n",
    "    #Pitch Augmenter\n",
    "    elif augment == 5 :\n",
    "        aug = naa.PitchAug(sampling_rate=sr, factor=(2,3))\n",
    "        signal = aug.augment(signal)\n",
    "    #Shift Augmenter\n",
    "    elif augment == 6 :\n",
    "        aug = naa.ShiftAug(sampling_rate=sr)\n",
    "        signal = aug.augment(signal)\n",
    "    #Speed Augmenter\n",
    "    elif augment == 7 :\n",
    "        aug = naa.SpeedAug()\n",
    "        signal = aug.augment(signal)\n",
    "    #Normalize Augmenter\n",
    "    elif augment == 8 :\n",
    "        aug = naa.NormalizeAug(method='minmax')\n",
    "        signal = aug.augment(signal)\n",
    "\n",
    "    hl = signal.shape[0]//(width*1.1) \n",
    "    spec = librosa.feature.melspectrogram(signal, n_mels=height, hop_length=int(hl))\n",
    "    img = librosa.amplitude_to_db(spec)**2\n",
    "    start = (img.shape[1] - width) // 2\n",
    "    return img[:, start:start+width]"
   ]
  },
  {
   "cell_type": "markdown",
   "metadata": {
    "id": "ftuOXJjdLgky"
   },
   "source": [
    "Process All images in all folders"
   ]
  },
  {
   "cell_type": "code",
   "execution_count": null,
   "metadata": {
    "id": "9Gki909rsURB"
   },
   "outputs": [],
   "source": [
    "def process_audio(in_folder, out_folder):\n",
    "    os.makedirs(out_folder, exist_ok=True)\n",
    "    files = glob.glob(in_folder+'*.wav')\n",
    "    start = len(in_folder)\n",
    "    for file in files:\n",
    "        img = wav_to_img(file)\n",
    "        imageio.imwrite(out_folder + file[start:] + '.jpg',img)"
   ]
  },
  {
   "cell_type": "markdown",
   "metadata": {
    "id": "E8t7TYD2qcHC"
   },
   "source": [
    "Augment audio files"
   ]
  },
  {
   "cell_type": "code",
   "execution_count": null,
   "metadata": {
    "id": "K52mSYyxLl6r"
   },
   "outputs": [],
   "source": [
    "import random\n",
    "def process_audio_augment(in_folder, out_folder):\n",
    "    os.makedirs(out_folder, exist_ok=True)\n",
    "    files = glob.glob(in_folder+'*.wav')\n",
    "    start = len(in_folder)\n",
    "    #we are going to choose random augumentations\n",
    "    #a list of posible augmentations\n",
    "    augments = [a for a in range(9)] # a choice of 9 transformations on each audio file\n",
    "    \n",
    "    for file in files:\n",
    "        choice = random.sample(augments, 6) #just 3 samples to augment the samples by 3 we can try another number\n",
    "        for c in choice:\n",
    "            img = wav_to_img_augment(file, augment=c)\n",
    "            imageio.imwrite(out_folder + file[start:] + str(c) +'.jpg',img)"
   ]
  },
  {
   "cell_type": "markdown",
   "metadata": {
    "id": "fXBEOEYiL0wL"
   },
   "source": [
    "For single voice class we dont need to augment the data"
   ]
  },
  {
   "cell_type": "code",
   "execution_count": null,
   "metadata": {
    "colab": {
     "base_uri": "https://localhost:8080/"
    },
    "id": "i3y3ma_uU7mV",
    "outputId": "702ce033-5e75-4075-e91d-173b452e7894"
   },
   "outputs": [
    {
     "name": "stderr",
     "output_type": "stream",
     "text": [
      "Lossy conversion from float32 to uint8. Range [1.6473290997964796e-07, 4594.83251953125]. Convert image to uint8 prior to saving to suppress this warning.\n",
      "Lossy conversion from float32 to uint8. Range [4.5178880100138485e-05, 3423.510498046875]. Convert image to uint8 prior to saving to suppress this warning.\n",
      "Lossy conversion from float32 to uint8. Range [2.19161961467762e-06, 5001.91650390625]. Convert image to uint8 prior to saving to suppress this warning.\n",
      "Lossy conversion from float32 to uint8. Range [4.485885710892035e-06, 4535.94189453125]. Convert image to uint8 prior to saving to suppress this warning.\n",
      "Lossy conversion from float32 to uint8. Range [9.800381121749524e-06, 4508.1552734375]. Convert image to uint8 prior to saving to suppress this warning.\n",
      "Lossy conversion from float32 to uint8. Range [4.669665031542536e-06, 4570.81201171875]. Convert image to uint8 prior to saving to suppress this warning.\n",
      "Lossy conversion from float32 to uint8. Range [1.9363444891951076e-07, 3075.513671875]. Convert image to uint8 prior to saving to suppress this warning.\n",
      "Lossy conversion from float32 to uint8. Range [3.0745446565560997e-05, 3775.685791015625]. Convert image to uint8 prior to saving to suppress this warning.\n",
      "Lossy conversion from float32 to uint8. Range [1.3063895494269673e-06, 4032.640869140625]. Convert image to uint8 prior to saving to suppress this warning.\n",
      "Lossy conversion from float32 to uint8. Range [1.7899772501550615e-05, 4074.85009765625]. Convert image to uint8 prior to saving to suppress this warning.\n",
      "Lossy conversion from float32 to uint8. Range [2.3566359232063405e-05, 3995.9716796875]. Convert image to uint8 prior to saving to suppress this warning.\n",
      "Lossy conversion from float32 to uint8. Range [0.000293476419756189, 5446.8154296875]. Convert image to uint8 prior to saving to suppress this warning.\n",
      "Lossy conversion from float32 to uint8. Range [4.783355507242959e-07, 4284.4501953125]. Convert image to uint8 prior to saving to suppress this warning.\n",
      "Lossy conversion from float32 to uint8. Range [5.192724188418651e-07, 4079.47314453125]. Convert image to uint8 prior to saving to suppress this warning.\n",
      "Lossy conversion from float32 to uint8. Range [2.427537992844009e-06, 4230.23046875]. Convert image to uint8 prior to saving to suppress this warning.\n",
      "Lossy conversion from float32 to uint8. Range [1.5514007827732712e-05, 4157.05419921875]. Convert image to uint8 prior to saving to suppress this warning.\n",
      "Lossy conversion from float32 to uint8. Range [7.586928404634818e-05, 4066.5341796875]. Convert image to uint8 prior to saving to suppress this warning.\n",
      "Lossy conversion from float32 to uint8. Range [1.0393987395218574e-06, 3918.271728515625]. Convert image to uint8 prior to saving to suppress this warning.\n",
      "Lossy conversion from float32 to uint8. Range [2.0112793208681978e-05, 4470.06298828125]. Convert image to uint8 prior to saving to suppress this warning.\n",
      "Lossy conversion from float32 to uint8. Range [1.887353846541373e-06, 2844.22705078125]. Convert image to uint8 prior to saving to suppress this warning.\n",
      "Lossy conversion from float32 to uint8. Range [0.00029007651028223336, 4297.1748046875]. Convert image to uint8 prior to saving to suppress this warning.\n",
      "Lossy conversion from float32 to uint8. Range [4.957465105093206e-09, 3967.71044921875]. Convert image to uint8 prior to saving to suppress this warning.\n",
      "Lossy conversion from float32 to uint8. Range [1.5248668205458671e-05, 5062.21533203125]. Convert image to uint8 prior to saving to suppress this warning.\n",
      "Lossy conversion from float32 to uint8. Range [1.0666534763004165e-05, 4397.36181640625]. Convert image to uint8 prior to saving to suppress this warning.\n",
      "Lossy conversion from float32 to uint8. Range [6.272630344028585e-06, 3850.3525390625]. Convert image to uint8 prior to saving to suppress this warning.\n",
      "Lossy conversion from float32 to uint8. Range [1.0994278454745654e-05, 4219.79541015625]. Convert image to uint8 prior to saving to suppress this warning.\n",
      "Lossy conversion from float32 to uint8. Range [1.0884770745178685e-05, 3867.911376953125]. Convert image to uint8 prior to saving to suppress this warning.\n",
      "Lossy conversion from float32 to uint8. Range [3.0681346743222093e-06, 4752.08203125]. Convert image to uint8 prior to saving to suppress this warning.\n",
      "Lossy conversion from float32 to uint8. Range [1.0723889545261045e-06, 1874.4757080078125]. Convert image to uint8 prior to saving to suppress this warning.\n",
      "Lossy conversion from float32 to uint8. Range [9.617160685593262e-07, 2311.143798828125]. Convert image to uint8 prior to saving to suppress this warning.\n",
      "Lossy conversion from float32 to uint8. Range [4.033827281091362e-06, 4505.56494140625]. Convert image to uint8 prior to saving to suppress this warning.\n",
      "Lossy conversion from float32 to uint8. Range [3.8881284126546234e-05, 4610.8681640625]. Convert image to uint8 prior to saving to suppress this warning.\n",
      "Lossy conversion from float32 to uint8. Range [2.2502749743580353e-06, 4709.32373046875]. Convert image to uint8 prior to saving to suppress this warning.\n",
      "Lossy conversion from float32 to uint8. Range [6.247458713914966e-06, 3707.24267578125]. Convert image to uint8 prior to saving to suppress this warning.\n",
      "Lossy conversion from float32 to uint8. Range [3.4920631151180714e-05, 5180.86181640625]. Convert image to uint8 prior to saving to suppress this warning.\n",
      "Lossy conversion from float32 to uint8. Range [1.1790367352659814e-05, 3877.931640625]. Convert image to uint8 prior to saving to suppress this warning.\n",
      "Lossy conversion from float32 to uint8. Range [7.405201927213056e-07, 4051.0302734375]. Convert image to uint8 prior to saving to suppress this warning.\n",
      "Lossy conversion from float32 to uint8. Range [8.113294711620256e-07, 4191.33642578125]. Convert image to uint8 prior to saving to suppress this warning.\n",
      "Lossy conversion from float32 to uint8. Range [1.7670909358002973e-07, 4692.041015625]. Convert image to uint8 prior to saving to suppress this warning.\n",
      "Lossy conversion from float32 to uint8. Range [5.820181669946578e-08, 3781.458984375]. Convert image to uint8 prior to saving to suppress this warning.\n",
      "Lossy conversion from float32 to uint8. Range [3.709317297762027e-08, 3319.57421875]. Convert image to uint8 prior to saving to suppress this warning.\n",
      "Lossy conversion from float32 to uint8. Range [1.3094467021801393e-06, 4094.83447265625]. Convert image to uint8 prior to saving to suppress this warning.\n",
      "Lossy conversion from float32 to uint8. Range [3.1024583222460933e-06, 2716.96142578125]. Convert image to uint8 prior to saving to suppress this warning.\n",
      "Lossy conversion from float32 to uint8. Range [8.684094332522818e-09, 4091.352783203125]. Convert image to uint8 prior to saving to suppress this warning.\n",
      "Lossy conversion from float32 to uint8. Range [9.179171684081666e-06, 4988.05419921875]. Convert image to uint8 prior to saving to suppress this warning.\n",
      "Lossy conversion from float32 to uint8. Range [1.3769926226814277e-05, 4920.81396484375]. Convert image to uint8 prior to saving to suppress this warning.\n",
      "Lossy conversion from float32 to uint8. Range [3.6225303574610734e-06, 5447.1025390625]. Convert image to uint8 prior to saving to suppress this warning.\n",
      "Lossy conversion from float32 to uint8. Range [1.1145743883389514e-05, 5882.18603515625]. Convert image to uint8 prior to saving to suppress this warning.\n",
      "Lossy conversion from float32 to uint8. Range [8.423165127169341e-06, 5022.89892578125]. Convert image to uint8 prior to saving to suppress this warning.\n",
      "Lossy conversion from float32 to uint8. Range [2.0999341359129176e-05, 4660.26318359375]. Convert image to uint8 prior to saving to suppress this warning.\n",
      "Lossy conversion from float32 to uint8. Range [0.00038009160198271275, 4004.609375]. Convert image to uint8 prior to saving to suppress this warning.\n",
      "Lossy conversion from float32 to uint8. Range [4.31098942499375e-06, 4692.61279296875]. Convert image to uint8 prior to saving to suppress this warning.\n",
      "Lossy conversion from float32 to uint8. Range [1.875994371403067e-06, 757.4766235351562]. Convert image to uint8 prior to saving to suppress this warning.\n",
      "Lossy conversion from float32 to uint8. Range [2.2936136190310208e-07, 3953.13427734375]. Convert image to uint8 prior to saving to suppress this warning.\n",
      "Lossy conversion from float32 to uint8. Range [1.4561746866093017e-05, 3691.995361328125]. Convert image to uint8 prior to saving to suppress this warning.\n",
      "Lossy conversion from float32 to uint8. Range [2.40909912463394e-07, 3969.46435546875]. Convert image to uint8 prior to saving to suppress this warning.\n",
      "Lossy conversion from float32 to uint8. Range [1.2592219718499109e-05, 2628.395751953125]. Convert image to uint8 prior to saving to suppress this warning.\n",
      "Lossy conversion from float32 to uint8. Range [1.0525941434025299e-05, 4754.67041015625]. Convert image to uint8 prior to saving to suppress this warning.\n",
      "Lossy conversion from float32 to uint8. Range [4.73385762234102e-06, 4796.1396484375]. Convert image to uint8 prior to saving to suppress this warning.\n",
      "Lossy conversion from float32 to uint8. Range [1.2505685376140718e-08, 4017.08984375]. Convert image to uint8 prior to saving to suppress this warning.\n",
      "Lossy conversion from float32 to uint8. Range [1.4818897398072295e-06, 4502.1025390625]. Convert image to uint8 prior to saving to suppress this warning.\n",
      "Lossy conversion from float32 to uint8. Range [1.2898777868031175e-06, 5154.12939453125]. Convert image to uint8 prior to saving to suppress this warning.\n",
      "Lossy conversion from float32 to uint8. Range [2.620537816255819e-05, 6053.59912109375]. Convert image to uint8 prior to saving to suppress this warning.\n",
      "Lossy conversion from float32 to uint8. Range [1.1644026926660445e-05, 3330.339111328125]. Convert image to uint8 prior to saving to suppress this warning.\n",
      "Lossy conversion from float32 to uint8. Range [6.848554039606825e-05, 2824.114501953125]. Convert image to uint8 prior to saving to suppress this warning.\n",
      "Lossy conversion from float32 to uint8. Range [1.6456588127766736e-05, 4647.42724609375]. Convert image to uint8 prior to saving to suppress this warning.\n",
      "Lossy conversion from float32 to uint8. Range [2.901333218119362e-08, 2936.836669921875]. Convert image to uint8 prior to saving to suppress this warning.\n",
      "Lossy conversion from float32 to uint8. Range [6.861522905410311e-09, 4718.3330078125]. Convert image to uint8 prior to saving to suppress this warning.\n",
      "Lossy conversion from float32 to uint8. Range [7.136116619221866e-05, 4112.18701171875]. Convert image to uint8 prior to saving to suppress this warning.\n",
      "Lossy conversion from float32 to uint8. Range [9.46003547142027e-06, 4963.27099609375]. Convert image to uint8 prior to saving to suppress this warning.\n",
      "Lossy conversion from float32 to uint8. Range [1.5152679679886205e-06, 3525.281982421875]. Convert image to uint8 prior to saving to suppress this warning.\n",
      "Lossy conversion from float32 to uint8. Range [1.145035548688611e-05, 4443.9814453125]. Convert image to uint8 prior to saving to suppress this warning.\n",
      "Lossy conversion from float32 to uint8. Range [5.879840500710998e-06, 4826.2421875]. Convert image to uint8 prior to saving to suppress this warning.\n",
      "Lossy conversion from float32 to uint8. Range [2.2134519895189442e-05, 4637.67333984375]. Convert image to uint8 prior to saving to suppress this warning.\n",
      "Lossy conversion from float32 to uint8. Range [9.22654289752245e-05, 3723.43212890625]. Convert image to uint8 prior to saving to suppress this warning.\n",
      "Lossy conversion from float32 to uint8. Range [1.6641808997519547e-07, 4060.463623046875]. Convert image to uint8 prior to saving to suppress this warning.\n",
      "Lossy conversion from float32 to uint8. Range [5.779893854196416e-06, 4851.89208984375]. Convert image to uint8 prior to saving to suppress this warning.\n",
      "Lossy conversion from float32 to uint8. Range [4.433404114934092e-07, 3100.41015625]. Convert image to uint8 prior to saving to suppress this warning.\n",
      "Lossy conversion from float32 to uint8. Range [3.830796049442142e-05, 4674.98828125]. Convert image to uint8 prior to saving to suppress this warning.\n",
      "Lossy conversion from float32 to uint8. Range [1.996976152440766e-06, 4314.205078125]. Convert image to uint8 prior to saving to suppress this warning.\n",
      "Lossy conversion from float32 to uint8. Range [1.1993138286925387e-05, 4083.6943359375]. Convert image to uint8 prior to saving to suppress this warning.\n",
      "Lossy conversion from float32 to uint8. Range [6.005977866152534e-06, 4064.612548828125]. Convert image to uint8 prior to saving to suppress this warning.\n",
      "Lossy conversion from float32 to uint8. Range [4.57096206218921e-07, 3378.1298828125]. Convert image to uint8 prior to saving to suppress this warning.\n",
      "Lossy conversion from float32 to uint8. Range [0.00010994766489602625, 5018.705078125]. Convert image to uint8 prior to saving to suppress this warning.\n",
      "Lossy conversion from float32 to uint8. Range [2.7077303457190283e-05, 5162.0771484375]. Convert image to uint8 prior to saving to suppress this warning.\n",
      "Lossy conversion from float32 to uint8. Range [2.127771267623757e-06, 4688.60693359375]. Convert image to uint8 prior to saving to suppress this warning.\n",
      "Lossy conversion from float32 to uint8. Range [4.5026268935544067e-07, 3863.668701171875]. Convert image to uint8 prior to saving to suppress this warning.\n",
      "Lossy conversion from float32 to uint8. Range [1.199804955831496e-06, 3106.4208984375]. Convert image to uint8 prior to saving to suppress this warning.\n",
      "Lossy conversion from float32 to uint8. Range [3.304578285678872e-06, 3337.796142578125]. Convert image to uint8 prior to saving to suppress this warning.\n",
      "Lossy conversion from float32 to uint8. Range [3.0470822821371257e-05, 4830.14404296875]. Convert image to uint8 prior to saving to suppress this warning.\n",
      "Lossy conversion from float32 to uint8. Range [1.3894969619343556e-09, 4451.0302734375]. Convert image to uint8 prior to saving to suppress this warning.\n",
      "Lossy conversion from float32 to uint8. Range [8.511246051057242e-06, 4928.62451171875]. Convert image to uint8 prior to saving to suppress this warning.\n",
      "Lossy conversion from float32 to uint8. Range [4.1344541386934e-05, 4149.1103515625]. Convert image to uint8 prior to saving to suppress this warning.\n",
      "Lossy conversion from float32 to uint8. Range [1.2761173229236533e-09, 4344.619140625]. Convert image to uint8 prior to saving to suppress this warning.\n",
      "Lossy conversion from float32 to uint8. Range [1.7308211681665853e-05, 2769.4765625]. Convert image to uint8 prior to saving to suppress this warning.\n",
      "Lossy conversion from float32 to uint8. Range [4.476007688936079e-06, 4016.508056640625]. Convert image to uint8 prior to saving to suppress this warning.\n",
      "Lossy conversion from float32 to uint8. Range [8.729279943509027e-05, 3815.154052734375]. Convert image to uint8 prior to saving to suppress this warning.\n",
      "Lossy conversion from float32 to uint8. Range [8.693757263245061e-05, 5582.6474609375]. Convert image to uint8 prior to saving to suppress this warning.\n",
      "Lossy conversion from float32 to uint8. Range [1.8965566894735275e-08, 6041.3603515625]. Convert image to uint8 prior to saving to suppress this warning.\n",
      "Lossy conversion from float32 to uint8. Range [1.4490775356534868e-05, 3660.087646484375]. Convert image to uint8 prior to saving to suppress this warning.\n",
      "Lossy conversion from float32 to uint8. Range [7.530973107350292e-06, 3072.71923828125]. Convert image to uint8 prior to saving to suppress this warning.\n",
      "Lossy conversion from float32 to uint8. Range [7.620635642524576e-07, 4079.672607421875]. Convert image to uint8 prior to saving to suppress this warning.\n",
      "Lossy conversion from float32 to uint8. Range [5.253542045835502e-09, 4854.1083984375]. Convert image to uint8 prior to saving to suppress this warning.\n",
      "Lossy conversion from float32 to uint8. Range [1.3599146768683568e-05, 3844.5302734375]. Convert image to uint8 prior to saving to suppress this warning.\n",
      "Lossy conversion from float32 to uint8. Range [2.931896688096458e-06, 3688.183349609375]. Convert image to uint8 prior to saving to suppress this warning.\n",
      "Lossy conversion from float32 to uint8. Range [4.423561676958343e-06, 4555.685546875]. Convert image to uint8 prior to saving to suppress this warning.\n",
      "Lossy conversion from float32 to uint8. Range [4.9695327106746845e-06, 4360.6357421875]. Convert image to uint8 prior to saving to suppress this warning.\n",
      "Lossy conversion from float32 to uint8. Range [1.1374883797543589e-05, 3494.890625]. Convert image to uint8 prior to saving to suppress this warning.\n",
      "Lossy conversion from float32 to uint8. Range [4.751906089950353e-06, 4030.375244140625]. Convert image to uint8 prior to saving to suppress this warning.\n",
      "Lossy conversion from float32 to uint8. Range [6.754142845011302e-08, 3535.4326171875]. Convert image to uint8 prior to saving to suppress this warning.\n",
      "Lossy conversion from float32 to uint8. Range [4.7419939619430806e-07, 6070.81396484375]. Convert image to uint8 prior to saving to suppress this warning.\n",
      "Lossy conversion from float32 to uint8. Range [2.355629112571478e-05, 4791.7431640625]. Convert image to uint8 prior to saving to suppress this warning.\n",
      "Lossy conversion from float32 to uint8. Range [1.5331596614487353e-06, 4728.43212890625]. Convert image to uint8 prior to saving to suppress this warning.\n",
      "Lossy conversion from float32 to uint8. Range [4.7949786676326767e-05, 4727.02490234375]. Convert image to uint8 prior to saving to suppress this warning.\n",
      "Lossy conversion from float32 to uint8. Range [1.4856746020086575e-06, 3758.324462890625]. Convert image to uint8 prior to saving to suppress this warning.\n",
      "Lossy conversion from float32 to uint8. Range [8.293573773698881e-05, 3914.118896484375]. Convert image to uint8 prior to saving to suppress this warning.\n",
      "Lossy conversion from float32 to uint8. Range [3.5514887031240505e-08, 4864.78564453125]. Convert image to uint8 prior to saving to suppress this warning.\n",
      "Lossy conversion from float32 to uint8. Range [1.9997405615868047e-06, 3940.00927734375]. Convert image to uint8 prior to saving to suppress this warning.\n",
      "Lossy conversion from float32 to uint8. Range [8.528765533810656e-07, 4563.49853515625]. Convert image to uint8 prior to saving to suppress this warning.\n",
      "Lossy conversion from float32 to uint8. Range [7.191533768491354e-08, 3779.34765625]. Convert image to uint8 prior to saving to suppress this warning.\n",
      "Lossy conversion from float32 to uint8. Range [5.463230081659276e-06, 4170.6513671875]. Convert image to uint8 prior to saving to suppress this warning.\n",
      "Lossy conversion from float32 to uint8. Range [6.81083183735609e-05, 4065.153076171875]. Convert image to uint8 prior to saving to suppress this warning.\n",
      "Lossy conversion from float32 to uint8. Range [0.00011090203770436347, 3676.723388671875]. Convert image to uint8 prior to saving to suppress this warning.\n",
      "Lossy conversion from float32 to uint8. Range [7.564822546157757e-09, 4873.3271484375]. Convert image to uint8 prior to saving to suppress this warning.\n",
      "Lossy conversion from float32 to uint8. Range [0.00011616064148256555, 5217.01708984375]. Convert image to uint8 prior to saving to suppress this warning.\n",
      "Lossy conversion from float32 to uint8. Range [5.321083517628722e-05, 3897.912109375]. Convert image to uint8 prior to saving to suppress this warning.\n",
      "Lossy conversion from float32 to uint8. Range [6.559772009495646e-05, 5453.24658203125]. Convert image to uint8 prior to saving to suppress this warning.\n",
      "Lossy conversion from float32 to uint8. Range [5.3165176723268814e-06, 5577.98583984375]. Convert image to uint8 prior to saving to suppress this warning.\n",
      "Lossy conversion from float32 to uint8. Range [3.347973233758239e-06, 4718.59521484375]. Convert image to uint8 prior to saving to suppress this warning.\n"
     ]
    }
   ],
   "source": [
    "process_audio('Audio_labelled_2/fold1/', 'Audio_data/jpg/')"
   ]
  },
  {
   "cell_type": "markdown",
   "metadata": {
    "id": "YENUOY_rskBr"
   },
   "source": [
    "For No voice and Multivoice classes there is limited data so we are going to augment the data with code from https://github.com/makcedward/nlpaug/blob/master/example/audio_augmenter.ipynb"
   ]
  },
  {
   "cell_type": "code",
   "execution_count": null,
   "metadata": {
    "colab": {
     "base_uri": "https://localhost:8080/"
    },
    "id": "mLr9-ZbKsaSn",
    "outputId": "e8217eb3-af6a-4c8d-a351-eab42fc695c8"
   },
   "outputs": [
    {
     "name": "stderr",
     "output_type": "stream",
     "text": [
      "Lossy conversion from float32 to uint8. Range [1.6119693100336008e-06, 4815.69189453125]. Convert image to uint8 prior to saving to suppress this warning.\n",
      "Lossy conversion from float32 to uint8. Range [2.4381683942920063e-06, 4823.498046875]. Convert image to uint8 prior to saving to suppress this warning.\n",
      "Lossy conversion from float32 to uint8. Range [1.2225898444739869e-06, 4862.69140625]. Convert image to uint8 prior to saving to suppress this warning.\n",
      "Lossy conversion from float32 to uint8. Range [2.0942503397236578e-05, 4862.69140625]. Convert image to uint8 prior to saving to suppress this warning.\n",
      "Lossy conversion from float32 to uint8. Range [2.0942503397236578e-05, 4862.69140625]. Convert image to uint8 prior to saving to suppress this warning.\n",
      "Lossy conversion from float32 to uint8. Range [1.3708468031836674e-05, 4804.63720703125]. Convert image to uint8 prior to saving to suppress this warning.\n",
      "Lossy conversion from float32 to uint8. Range [2.509665897321156e-08, 1604.83154296875]. Convert image to uint8 prior to saving to suppress this warning.\n",
      "Lossy conversion from float32 to uint8. Range [2.6092406457678408e-08, 1629.638916015625]. Convert image to uint8 prior to saving to suppress this warning.\n",
      "Lossy conversion from float32 to uint8. Range [6.808884478459731e-08, 1806.71044921875]. Convert image to uint8 prior to saving to suppress this warning.\n",
      "Lossy conversion from float32 to uint8. Range [2.509665897321156e-08, 1616.970458984375]. Convert image to uint8 prior to saving to suppress this warning.\n",
      "Lossy conversion from float32 to uint8. Range [2.509665897321156e-08, 2685.753662109375]. Convert image to uint8 prior to saving to suppress this warning.\n",
      "Lossy conversion from float32 to uint8. Range [4.818353360747096e-08, 1640.495361328125]. Convert image to uint8 prior to saving to suppress this warning.\n",
      "Lossy conversion from float32 to uint8. Range [1.7420497897546738e-06, 1724.44580078125]. Convert image to uint8 prior to saving to suppress this warning.\n",
      "Lossy conversion from float32 to uint8. Range [6.674453345567599e-08, 1932.7142333984375]. Convert image to uint8 prior to saving to suppress this warning.\n",
      "Lossy conversion from float32 to uint8. Range [1.7420497897546738e-06, 1724.44580078125]. Convert image to uint8 prior to saving to suppress this warning.\n",
      "Lossy conversion from float32 to uint8. Range [7.260446182044689e-07, 1731.989990234375]. Convert image to uint8 prior to saving to suppress this warning.\n",
      "Lossy conversion from float32 to uint8. Range [1.7420497897546738e-06, 1933.4814453125]. Convert image to uint8 prior to saving to suppress this warning.\n",
      "Lossy conversion from float32 to uint8. Range [6.451077297242591e-06, 1815.9691162109375]. Convert image to uint8 prior to saving to suppress this warning.\n",
      "Lossy conversion from float32 to uint8. Range [7.384465448012634e-07, 2263.338134765625]. Convert image to uint8 prior to saving to suppress this warning.\n",
      "Lossy conversion from float32 to uint8. Range [1.600533323653508e-06, 2222.75927734375]. Convert image to uint8 prior to saving to suppress this warning.\n",
      "Lossy conversion from float32 to uint8. Range [5.0488306868601285e-08, 2206.226806640625]. Convert image to uint8 prior to saving to suppress this warning.\n",
      "Lossy conversion from float32 to uint8. Range [8.895927976482199e-07, 2474.41162109375]. Convert image to uint8 prior to saving to suppress this warning.\n",
      "Lossy conversion from float32 to uint8. Range [2.5529246272526507e-07, 3351.06884765625]. Convert image to uint8 prior to saving to suppress this warning.\n",
      "Lossy conversion from float32 to uint8. Range [3.7643232531081594e-07, 2351.54541015625]. Convert image to uint8 prior to saving to suppress this warning.\n",
      "Lossy conversion from float32 to uint8. Range [7.529532553007812e-08, 2536.94189453125]. Convert image to uint8 prior to saving to suppress this warning.\n",
      "Lossy conversion from float32 to uint8. Range [1.243279257323593e-06, 2536.94189453125]. Convert image to uint8 prior to saving to suppress this warning.\n",
      "Lossy conversion from float32 to uint8. Range [2.5312306206615176e-06, 2828.47265625]. Convert image to uint8 prior to saving to suppress this warning.\n",
      "Lossy conversion from float32 to uint8. Range [1.600533323653508e-06, 2852.6787109375]. Convert image to uint8 prior to saving to suppress this warning.\n",
      "Lossy conversion from float32 to uint8. Range [7.865868610679172e-06, 2536.94189453125]. Convert image to uint8 prior to saving to suppress this warning.\n",
      "Lossy conversion from float32 to uint8. Range [2.6953089218295645e-06, 2973.130859375]. Convert image to uint8 prior to saving to suppress this warning.\n",
      "Lossy conversion from float32 to uint8. Range [6.415781399482512e-07, 1851.486572265625]. Convert image to uint8 prior to saving to suppress this warning.\n",
      "Lossy conversion from float32 to uint8. Range [2.7122689516545506e-07, 2172.656494140625]. Convert image to uint8 prior to saving to suppress this warning.\n",
      "Lossy conversion from float32 to uint8. Range [2.989953529208833e-08, 2030.87158203125]. Convert image to uint8 prior to saving to suppress this warning.\n",
      "Lossy conversion from float32 to uint8. Range [7.5454630632521e-07, 1799.2244873046875]. Convert image to uint8 prior to saving to suppress this warning.\n",
      "Lossy conversion from float32 to uint8. Range [1.4697427559440257e-06, 1796.53369140625]. Convert image to uint8 prior to saving to suppress this warning.\n",
      "Lossy conversion from float32 to uint8. Range [7.5454630632521e-07, 1799.2244873046875]. Convert image to uint8 prior to saving to suppress this warning.\n",
      "Lossy conversion from float32 to uint8. Range [3.789518032704109e-08, 2214.607421875]. Convert image to uint8 prior to saving to suppress this warning.\n",
      "Lossy conversion from float32 to uint8. Range [1.9366802007425576e-05, 2504.635498046875]. Convert image to uint8 prior to saving to suppress this warning.\n",
      "Lossy conversion from float32 to uint8. Range [2.5295828436355805e-06, 2504.635498046875]. Convert image to uint8 prior to saving to suppress this warning.\n",
      "Lossy conversion from float32 to uint8. Range [7.247666355958415e-10, 2504.635498046875]. Convert image to uint8 prior to saving to suppress this warning.\n",
      "Lossy conversion from float32 to uint8. Range [6.073337743828233e-08, 2504.635498046875]. Convert image to uint8 prior to saving to suppress this warning.\n",
      "Lossy conversion from float32 to uint8. Range [5.207654680816631e-07, 2504.635498046875]. Convert image to uint8 prior to saving to suppress this warning.\n",
      "Lossy conversion from float32 to uint8. Range [1.927380935740075e-06, 1862.171875]. Convert image to uint8 prior to saving to suppress this warning.\n",
      "Lossy conversion from float32 to uint8. Range [3.2089204182739195e-08, 2128.01318359375]. Convert image to uint8 prior to saving to suppress this warning.\n",
      "Lossy conversion from float32 to uint8. Range [1.420410313812681e-07, 2130.12646484375]. Convert image to uint8 prior to saving to suppress this warning.\n",
      "Lossy conversion from float32 to uint8. Range [9.294897154177306e-07, 2816.30859375]. Convert image to uint8 prior to saving to suppress this warning.\n",
      "Lossy conversion from float32 to uint8. Range [4.0150257518689614e-07, 2036.994873046875]. Convert image to uint8 prior to saving to suppress this warning.\n",
      "Lossy conversion from float32 to uint8. Range [1.076490298146382e-05, 1591.1365966796875]. Convert image to uint8 prior to saving to suppress this warning.\n",
      "Lossy conversion from float32 to uint8. Range [0.00011001373059116304, 2425.487060546875]. Convert image to uint8 prior to saving to suppress this warning.\n",
      "Lossy conversion from float32 to uint8. Range [3.852380359603558e-06, 2425.487060546875]. Convert image to uint8 prior to saving to suppress this warning.\n",
      "Lossy conversion from float32 to uint8. Range [3.0103940389381023e-06, 2733.824462890625]. Convert image to uint8 prior to saving to suppress this warning.\n",
      "Lossy conversion from float32 to uint8. Range [5.0779926823452115e-06, 2600.697265625]. Convert image to uint8 prior to saving to suppress this warning.\n",
      "Lossy conversion from float32 to uint8. Range [4.225557131576352e-05, 2670.68408203125]. Convert image to uint8 prior to saving to suppress this warning.\n",
      "Lossy conversion from float32 to uint8. Range [3.102828429746296e-07, 2721.097412109375]. Convert image to uint8 prior to saving to suppress this warning.\n",
      "Lossy conversion from float32 to uint8. Range [2.071537430481385e-08, 2194.84521484375]. Convert image to uint8 prior to saving to suppress this warning.\n",
      "Lossy conversion from float32 to uint8. Range [1.3189450100981048e-06, 3457.380126953125]. Convert image to uint8 prior to saving to suppress this warning.\n",
      "Lossy conversion from float32 to uint8. Range [8.721044082449225e-07, 3812.093994140625]. Convert image to uint8 prior to saving to suppress this warning.\n",
      "Lossy conversion from float32 to uint8. Range [2.7861924536409788e-06, 3457.380126953125]. Convert image to uint8 prior to saving to suppress this warning.\n",
      "Lossy conversion from float32 to uint8. Range [2.5430634309486777e-07, 3597.500244140625]. Convert image to uint8 prior to saving to suppress this warning.\n",
      "Lossy conversion from float32 to uint8. Range [3.631068921094993e-07, 3603.92236328125]. Convert image to uint8 prior to saving to suppress this warning.\n",
      "Lossy conversion from float32 to uint8. Range [6.862205026436641e-08, 2250.36083984375]. Convert image to uint8 prior to saving to suppress this warning.\n",
      "Lossy conversion from float32 to uint8. Range [1.3742285318585346e-06, 3281.17041015625]. Convert image to uint8 prior to saving to suppress this warning.\n",
      "Lossy conversion from float32 to uint8. Range [1.2999823866266524e-06, 4091.9306640625]. Convert image to uint8 prior to saving to suppress this warning.\n",
      "Lossy conversion from float32 to uint8. Range [2.3801591808592093e-08, 3448.697998046875]. Convert image to uint8 prior to saving to suppress this warning.\n",
      "Lossy conversion from float32 to uint8. Range [2.511247032543906e-07, 3448.697998046875]. Convert image to uint8 prior to saving to suppress this warning.\n",
      "Lossy conversion from float32 to uint8. Range [1.630432166166429e-06, 2756.999755859375]. Convert image to uint8 prior to saving to suppress this warning.\n",
      "Lossy conversion from float32 to uint8. Range [3.3587447489935585e-08, 1978.9808349609375]. Convert image to uint8 prior to saving to suppress this warning.\n",
      "Lossy conversion from float32 to uint8. Range [2.411437435512198e-06, 2077.36767578125]. Convert image to uint8 prior to saving to suppress this warning.\n",
      "Lossy conversion from float32 to uint8. Range [1.784082215294802e-08, 2301.666259765625]. Convert image to uint8 prior to saving to suppress this warning.\n",
      "Lossy conversion from float32 to uint8. Range [1.105583032767754e-05, 3277.204345703125]. Convert image to uint8 prior to saving to suppress this warning.\n",
      "Lossy conversion from float32 to uint8. Range [1.3199138265918009e-05, 1662.87451171875]. Convert image to uint8 prior to saving to suppress this warning.\n",
      "Lossy conversion from float32 to uint8. Range [2.4236335320892977e-06, 1945.1123046875]. Convert image to uint8 prior to saving to suppress this warning.\n",
      "Lossy conversion from float32 to uint8. Range [2.665317651917576e-06, 1750.3673095703125]. Convert image to uint8 prior to saving to suppress this warning.\n",
      "Lossy conversion from float32 to uint8. Range [2.61140513657665e-07, 1722.108154296875]. Convert image to uint8 prior to saving to suppress this warning.\n",
      "Lossy conversion from float32 to uint8. Range [5.4811071237281794e-09, 2225.334716796875]. Convert image to uint8 prior to saving to suppress this warning.\n",
      "Lossy conversion from float32 to uint8. Range [1.0296528962783214e-08, 2801.150146484375]. Convert image to uint8 prior to saving to suppress this warning.\n",
      "Lossy conversion from float32 to uint8. Range [3.1045005925989244e-06, 1805.54833984375]. Convert image to uint8 prior to saving to suppress this warning.\n",
      "Lossy conversion from float32 to uint8. Range [8.889684977475554e-06, 1719.535400390625]. Convert image to uint8 prior to saving to suppress this warning.\n",
      "Lossy conversion from float32 to uint8. Range [2.772377683868399e-06, 2040.33837890625]. Convert image to uint8 prior to saving to suppress this warning.\n",
      "Lossy conversion from float32 to uint8. Range [8.300859235532698e-07, 2043.2210693359375]. Convert image to uint8 prior to saving to suppress this warning.\n",
      "Lossy conversion from float32 to uint8. Range [1.512720245955279e-06, 2043.2210693359375]. Convert image to uint8 prior to saving to suppress this warning.\n",
      "Lossy conversion from float32 to uint8. Range [1.512720245955279e-06, 2043.2210693359375]. Convert image to uint8 prior to saving to suppress this warning.\n",
      "Lossy conversion from float32 to uint8. Range [1.512720245955279e-06, 2043.2210693359375]. Convert image to uint8 prior to saving to suppress this warning.\n",
      "Lossy conversion from float32 to uint8. Range [1.0595575758998166e-06, 2043.2210693359375]. Convert image to uint8 prior to saving to suppress this warning.\n",
      "Lossy conversion from float32 to uint8. Range [5.5492613171281846e-08, 2535.5166015625]. Convert image to uint8 prior to saving to suppress this warning.\n",
      "Lossy conversion from float32 to uint8. Range [1.8362497939961031e-06, 2992.7900390625]. Convert image to uint8 prior to saving to suppress this warning.\n",
      "Lossy conversion from float32 to uint8. Range [2.4122917552382717e-10, 3129.635498046875]. Convert image to uint8 prior to saving to suppress this warning.\n",
      "Lossy conversion from float32 to uint8. Range [5.5492613171281846e-08, 3580.07470703125]. Convert image to uint8 prior to saving to suppress this warning.\n",
      "Lossy conversion from float32 to uint8. Range [5.5492613171281846e-08, 2299.760009765625]. Convert image to uint8 prior to saving to suppress this warning.\n",
      "Lossy conversion from float32 to uint8. Range [5.5492613171281846e-08, 2536.369140625]. Convert image to uint8 prior to saving to suppress this warning.\n",
      "Lossy conversion from float32 to uint8. Range [6.39091979337536e-07, 2469.59375]. Convert image to uint8 prior to saving to suppress this warning.\n",
      "Lossy conversion from float32 to uint8. Range [1.093946821129066e-06, 2483.94091796875]. Convert image to uint8 prior to saving to suppress this warning.\n",
      "Lossy conversion from float32 to uint8. Range [3.2664038940311e-07, 2469.59375]. Convert image to uint8 prior to saving to suppress this warning.\n",
      "Lossy conversion from float32 to uint8. Range [6.39091979337536e-07, 2469.59375]. Convert image to uint8 prior to saving to suppress this warning.\n",
      "Lossy conversion from float32 to uint8. Range [3.600938498493633e-07, 2532.65380859375]. Convert image to uint8 prior to saving to suppress this warning.\n",
      "Lossy conversion from float32 to uint8. Range [3.770679484205175e-07, 2038.058349609375]. Convert image to uint8 prior to saving to suppress this warning.\n",
      "Lossy conversion from float32 to uint8. Range [3.594727218114713e-07, 2366.321533203125]. Convert image to uint8 prior to saving to suppress this warning.\n",
      "Lossy conversion from float32 to uint8. Range [6.757836672477424e-07, 1606.365234375]. Convert image to uint8 prior to saving to suppress this warning.\n",
      "Lossy conversion from float32 to uint8. Range [1.313253790158342e-07, 1691.0240478515625]. Convert image to uint8 prior to saving to suppress this warning.\n",
      "Lossy conversion from float32 to uint8. Range [4.57096206218921e-07, 2258.4423828125]. Convert image to uint8 prior to saving to suppress this warning.\n",
      "Lossy conversion from float32 to uint8. Range [6.757836672477424e-07, 2102.382568359375]. Convert image to uint8 prior to saving to suppress this warning.\n",
      "Lossy conversion from float32 to uint8. Range [6.757836672477424e-07, 3410.004150390625]. Convert image to uint8 prior to saving to suppress this warning.\n",
      "Lossy conversion from float32 to uint8. Range [6.929113851583679e-07, 2237.633056640625]. Convert image to uint8 prior to saving to suppress this warning.\n",
      "Lossy conversion from float32 to uint8. Range [1.178284492198145e-07, 4517.73974609375]. Convert image to uint8 prior to saving to suppress this warning.\n",
      "Lossy conversion from float32 to uint8. Range [7.4478593887761235e-06, 2237.633056640625]. Convert image to uint8 prior to saving to suppress this warning.\n",
      "Lossy conversion from float32 to uint8. Range [1.487784118126001e-07, 3958.194091796875]. Convert image to uint8 prior to saving to suppress this warning.\n",
      "Lossy conversion from float32 to uint8. Range [1.2322005204623565e-05, 2237.633056640625]. Convert image to uint8 prior to saving to suppress this warning.\n",
      "Lossy conversion from float32 to uint8. Range [6.929113851583679e-07, 3053.357177734375]. Convert image to uint8 prior to saving to suppress this warning.\n",
      "Lossy conversion from float32 to uint8. Range [8.427487045992166e-07, 1993.7227783203125]. Convert image to uint8 prior to saving to suppress this warning.\n",
      "Lossy conversion from float32 to uint8. Range [2.161923084997852e-08, 2070.36328125]. Convert image to uint8 prior to saving to suppress this warning.\n",
      "Lossy conversion from float32 to uint8. Range [5.0342423492111266e-05, 1800.340576171875]. Convert image to uint8 prior to saving to suppress this warning.\n",
      "Lossy conversion from float32 to uint8. Range [6.123206276242854e-06, 1862.9713134765625]. Convert image to uint8 prior to saving to suppress this warning.\n",
      "Lossy conversion from float32 to uint8. Range [6.306090085672622e-07, 3099.00341796875]. Convert image to uint8 prior to saving to suppress this warning.\n",
      "Lossy conversion from float32 to uint8. Range [2.6720811092673102e-06, 1842.7421875]. Convert image to uint8 prior to saving to suppress this warning.\n",
      "Lossy conversion from float32 to uint8. Range [2.511247032543906e-07, 1991.664306640625]. Convert image to uint8 prior to saving to suppress this warning.\n",
      "Lossy conversion from float32 to uint8. Range [2.137657162393225e-07, 2828.632568359375]. Convert image to uint8 prior to saving to suppress this warning.\n",
      "Lossy conversion from float32 to uint8. Range [2.9460913992807036e-06, 2828.632568359375]. Convert image to uint8 prior to saving to suppress this warning.\n",
      "Lossy conversion from float32 to uint8. Range [8.552969120501075e-06, 2851.927734375]. Convert image to uint8 prior to saving to suppress this warning.\n",
      "Lossy conversion from float32 to uint8. Range [2.9460913992807036e-06, 2828.632568359375]. Convert image to uint8 prior to saving to suppress this warning.\n",
      "Lossy conversion from float32 to uint8. Range [6.754952153187332e-08, 2828.632568359375]. Convert image to uint8 prior to saving to suppress this warning.\n",
      "Lossy conversion from float32 to uint8. Range [8.150636290338298e-07, 3186.0224609375]. Convert image to uint8 prior to saving to suppress this warning.\n",
      "Lossy conversion from float32 to uint8. Range [7.360011977652903e-08, 2882.127685546875]. Convert image to uint8 prior to saving to suppress this warning.\n",
      "Lossy conversion from float32 to uint8. Range [7.360011977652903e-08, 4274.359375]. Convert image to uint8 prior to saving to suppress this warning.\n",
      "Lossy conversion from float32 to uint8. Range [2.460194536979543e-07, 2336.52099609375]. Convert image to uint8 prior to saving to suppress this warning.\n",
      "Lossy conversion from float32 to uint8. Range [7.360011977652903e-08, 2881.76513671875]. Convert image to uint8 prior to saving to suppress this warning.\n",
      "Lossy conversion from float32 to uint8. Range [7.360011977652903e-08, 1530.453369140625]. Convert image to uint8 prior to saving to suppress this warning.\n",
      "Lossy conversion from float32 to uint8. Range [5.165215043234639e-06, 2178.831298828125]. Convert image to uint8 prior to saving to suppress this warning.\n",
      "Lossy conversion from float32 to uint8. Range [3.4993840927199926e-06, 2178.831298828125]. Convert image to uint8 prior to saving to suppress this warning.\n",
      "Lossy conversion from float32 to uint8. Range [2.0006523016036226e-07, 2178.831298828125]. Convert image to uint8 prior to saving to suppress this warning.\n",
      "Lossy conversion from float32 to uint8. Range [6.674453345567599e-08, 2358.64013671875]. Convert image to uint8 prior to saving to suppress this warning.\n",
      "Lossy conversion from float32 to uint8. Range [3.859736086297971e-09, 2178.831298828125]. Convert image to uint8 prior to saving to suppress this warning.\n",
      "Lossy conversion from float32 to uint8. Range [4.651789822673891e-06, 2178.831298828125]. Convert image to uint8 prior to saving to suppress this warning.\n",
      "Lossy conversion from float32 to uint8. Range [3.063371423195349e-07, 2007.539306640625]. Convert image to uint8 prior to saving to suppress this warning.\n",
      "Lossy conversion from float32 to uint8. Range [1.482319134993304e-06, 2527.208984375]. Convert image to uint8 prior to saving to suppress this warning.\n",
      "Lossy conversion from float32 to uint8. Range [3.063371423195349e-07, 2156.91162109375]. Convert image to uint8 prior to saving to suppress this warning.\n",
      "Lossy conversion from float32 to uint8. Range [3.063371423195349e-07, 3269.07421875]. Convert image to uint8 prior to saving to suppress this warning.\n",
      "Lossy conversion from float32 to uint8. Range [2.2787591547057673e-07, 2007.539306640625]. Convert image to uint8 prior to saving to suppress this warning.\n",
      "Lossy conversion from float32 to uint8. Range [3.063371423195349e-07, 2007.539306640625]. Convert image to uint8 prior to saving to suppress this warning.\n",
      "Lossy conversion from float32 to uint8. Range [2.449932310355507e-07, 2027.9842529296875]. Convert image to uint8 prior to saving to suppress this warning.\n",
      "Lossy conversion from float32 to uint8. Range [1.0912560810538707e-06, 2003.81298828125]. Convert image to uint8 prior to saving to suppress this warning.\n",
      "Lossy conversion from float32 to uint8. Range [2.972313062343801e-08, 2839.681884765625]. Convert image to uint8 prior to saving to suppress this warning.\n",
      "Lossy conversion from float32 to uint8. Range [1.8348467847317806e-06, 3301.7734375]. Convert image to uint8 prior to saving to suppress this warning.\n",
      "Lossy conversion from float32 to uint8. Range [3.688464857987128e-07, 2228.653564453125]. Convert image to uint8 prior to saving to suppress this warning.\n",
      "Lossy conversion from float32 to uint8. Range [1.8348467847317806e-06, 2524.692138671875]. Convert image to uint8 prior to saving to suppress this warning.\n",
      "Lossy conversion from float32 to uint8. Range [7.307493774533214e-07, 2315.314453125]. Convert image to uint8 prior to saving to suppress this warning.\n",
      "Lossy conversion from float32 to uint8. Range [1.518204939543466e-08, 1974.4083251953125]. Convert image to uint8 prior to saving to suppress this warning.\n",
      "Lossy conversion from float32 to uint8. Range [2.5118268354162865e-07, 2313.51513671875]. Convert image to uint8 prior to saving to suppress this warning.\n",
      "Lossy conversion from float32 to uint8. Range [7.067678780003916e-07, 1960.334228515625]. Convert image to uint8 prior to saving to suppress this warning.\n",
      "Lossy conversion from float32 to uint8. Range [6.227416093906868e-08, 2017.79052734375]. Convert image to uint8 prior to saving to suppress this warning.\n",
      "Lossy conversion from float32 to uint8. Range [3.832507900369819e-06, 1972.478515625]. Convert image to uint8 prior to saving to suppress this warning.\n",
      "Lossy conversion from float32 to uint8. Range [9.203515816125218e-08, 2318.73388671875]. Convert image to uint8 prior to saving to suppress this warning.\n",
      "Lossy conversion from float32 to uint8. Range [1.5561781196993252e-07, 2382.5498046875]. Convert image to uint8 prior to saving to suppress this warning.\n",
      "Lossy conversion from float32 to uint8. Range [1.8693128367885947e-05, 2165.5302734375]. Convert image to uint8 prior to saving to suppress this warning.\n",
      "Lossy conversion from float32 to uint8. Range [3.2333534818462795e-06, 2305.671630859375]. Convert image to uint8 prior to saving to suppress this warning.\n",
      "Lossy conversion from float32 to uint8. Range [6.219005626917351e-06, 2306.74072265625]. Convert image to uint8 prior to saving to suppress this warning.\n",
      "Lossy conversion from float32 to uint8. Range [2.6081740998051828e-06, 2323.995849609375]. Convert image to uint8 prior to saving to suppress this warning.\n",
      "Lossy conversion from float32 to uint8. Range [3.102828429746296e-07, 1708.9501953125]. Convert image to uint8 prior to saving to suppress this warning.\n",
      "Lossy conversion from float32 to uint8. Range [1.960388772204169e-06, 2374.09716796875]. Convert image to uint8 prior to saving to suppress this warning.\n",
      "Lossy conversion from float32 to uint8. Range [6.949026669644809e-07, 1670.766845703125]. Convert image to uint8 prior to saving to suppress this warning.\n",
      "Lossy conversion from float32 to uint8. Range [2.7447165962257714e-07, 2948.40380859375]. Convert image to uint8 prior to saving to suppress this warning.\n",
      "Lossy conversion from float32 to uint8. Range [4.073455329489661e-06, 1670.766845703125]. Convert image to uint8 prior to saving to suppress this warning.\n",
      "Lossy conversion from float32 to uint8. Range [1.2686159323038737e-07, 2722.6796875]. Convert image to uint8 prior to saving to suppress this warning.\n",
      "Lossy conversion from float32 to uint8. Range [3.410871727282938e-07, 2599.5751953125]. Convert image to uint8 prior to saving to suppress this warning.\n",
      "Lossy conversion from float32 to uint8. Range [1.1820564971287695e-08, 4400.8017578125]. Convert image to uint8 prior to saving to suppress this warning.\n",
      "Lossy conversion from float32 to uint8. Range [4.900182375422446e-07, 4451.09619140625]. Convert image to uint8 prior to saving to suppress this warning.\n",
      "Lossy conversion from float32 to uint8. Range [2.245616997242905e-06, 4170.91552734375]. Convert image to uint8 prior to saving to suppress this warning.\n",
      "Lossy conversion from float32 to uint8. Range [1.3894969619343556e-09, 4419.52587890625]. Convert image to uint8 prior to saving to suppress this warning.\n",
      "Lossy conversion from float32 to uint8. Range [3.410871727282938e-07, 3675.510986328125]. Convert image to uint8 prior to saving to suppress this warning.\n",
      "Lossy conversion from float32 to uint8. Range [1.9412972562804498e-07, 5656.25830078125]. Convert image to uint8 prior to saving to suppress this warning.\n",
      "Lossy conversion from float32 to uint8. Range [4.70640372896014e-07, 4029.980224609375]. Convert image to uint8 prior to saving to suppress this warning.\n",
      "Lossy conversion from float32 to uint8. Range [2.9760551569779636e-06, 2667.073974609375]. Convert image to uint8 prior to saving to suppress this warning.\n",
      "Lossy conversion from float32 to uint8. Range [3.7189329304965213e-07, 4262.685546875]. Convert image to uint8 prior to saving to suppress this warning.\n",
      "Lossy conversion from float32 to uint8. Range [1.3452431630867068e-06, 4029.57373046875]. Convert image to uint8 prior to saving to suppress this warning.\n",
      "Lossy conversion from float32 to uint8. Range [1.8686731664274703e-06, 4029.57373046875]. Convert image to uint8 prior to saving to suppress this warning.\n",
      "Lossy conversion from float32 to uint8. Range [1.6752137177444837e-10, 2761.985595703125]. Convert image to uint8 prior to saving to suppress this warning.\n",
      "Lossy conversion from float32 to uint8. Range [3.462428867351264e-05, 2660.859375]. Convert image to uint8 prior to saving to suppress this warning.\n",
      "Lossy conversion from float32 to uint8. Range [1.6752137177444837e-10, 2596.22216796875]. Convert image to uint8 prior to saving to suppress this warning.\n",
      "Lossy conversion from float32 to uint8. Range [0.00013789968215860426, 3356.644287109375]. Convert image to uint8 prior to saving to suppress this warning.\n",
      "Lossy conversion from float32 to uint8. Range [1.6752137177444837e-10, 2950.925048828125]. Convert image to uint8 prior to saving to suppress this warning.\n",
      "Lossy conversion from float32 to uint8. Range [1.6752137177444837e-10, 2950.91650390625]. Convert image to uint8 prior to saving to suppress this warning.\n",
      "Lossy conversion from float32 to uint8. Range [8.754132977628615e-06, 1703.772216796875]. Convert image to uint8 prior to saving to suppress this warning.\n",
      "Lossy conversion from float32 to uint8. Range [2.6803019803622874e-09, 1619.17333984375]. Convert image to uint8 prior to saving to suppress this warning.\n",
      "Lossy conversion from float32 to uint8. Range [0.00017144462617579848, 2034.1171875]. Convert image to uint8 prior to saving to suppress this warning.\n",
      "Lossy conversion from float32 to uint8. Range [1.2445793799997773e-05, 1709.1435546875]. Convert image to uint8 prior to saving to suppress this warning.\n",
      "Lossy conversion from float32 to uint8. Range [1.92518392339025e-08, 1993.69384765625]. Convert image to uint8 prior to saving to suppress this warning.\n",
      "Lossy conversion from float32 to uint8. Range [9.629104897612706e-05, 2034.1171875]. Convert image to uint8 prior to saving to suppress this warning.\n",
      "Lossy conversion from float32 to uint8. Range [1.7874546074381215e-06, 755.2900390625]. Convert image to uint8 prior to saving to suppress this warning.\n",
      "Lossy conversion from float32 to uint8. Range [1.5988459836080438e-06, 757.4786987304688]. Convert image to uint8 prior to saving to suppress this warning.\n",
      "Lossy conversion from float32 to uint8. Range [2.525263653296861e-06, 757.4786987304688]. Convert image to uint8 prior to saving to suppress this warning.\n",
      "Lossy conversion from float32 to uint8. Range [1.4831507542112377e-06, 748.6123046875]. Convert image to uint8 prior to saving to suppress this warning.\n",
      "Lossy conversion from float32 to uint8. Range [1.7043093976099044e-06, 757.4786987304688]. Convert image to uint8 prior to saving to suppress this warning.\n",
      "Lossy conversion from float32 to uint8. Range [2.223099748732693e-08, 3251.50146484375]. Convert image to uint8 prior to saving to suppress this warning.\n",
      "Lossy conversion from float32 to uint8. Range [8.974211596068926e-07, 2672.3876953125]. Convert image to uint8 prior to saving to suppress this warning.\n",
      "Lossy conversion from float32 to uint8. Range [6.529944948852062e-05, 2849.502197265625]. Convert image to uint8 prior to saving to suppress this warning.\n",
      "Lossy conversion from float32 to uint8. Range [4.407321739563486e-06, 2672.3876953125]. Convert image to uint8 prior to saving to suppress this warning.\n",
      "Lossy conversion from float32 to uint8. Range [1.0192931767960545e-05, 2672.3876953125]. Convert image to uint8 prior to saving to suppress this warning.\n",
      "Lossy conversion from float32 to uint8. Range [6.9048223849677015e-06, 2852.243896484375]. Convert image to uint8 prior to saving to suppress this warning.\n",
      "Lossy conversion from float32 to uint8. Range [8.876411925484717e-07, 2830.86474609375]. Convert image to uint8 prior to saving to suppress this warning.\n",
      "Lossy conversion from float32 to uint8. Range [1.1154203782837158e-08, 1910.1942138671875]. Convert image to uint8 prior to saving to suppress this warning.\n",
      "Lossy conversion from float32 to uint8. Range [7.98746186774224e-05, 3027.329345703125]. Convert image to uint8 prior to saving to suppress this warning.\n",
      "Lossy conversion from float32 to uint8. Range [8.666851272209897e-07, 1910.1942138671875]. Convert image to uint8 prior to saving to suppress this warning.\n",
      "Lossy conversion from float32 to uint8. Range [1.5420264389831573e-05, 1870.4925537109375]. Convert image to uint8 prior to saving to suppress this warning.\n",
      "Lossy conversion from float32 to uint8. Range [8.666851272209897e-07, 1729.6617431640625]. Convert image to uint8 prior to saving to suppress this warning.\n",
      "Lossy conversion from float32 to uint8. Range [2.454368541293661e-06, 2528.013427734375]. Convert image to uint8 prior to saving to suppress this warning.\n",
      "Lossy conversion from float32 to uint8. Range [2.995923387061339e-05, 1632.3206787109375]. Convert image to uint8 prior to saving to suppress this warning.\n",
      "Lossy conversion from float32 to uint8. Range [9.26774248455331e-08, 2397.4453125]. Convert image to uint8 prior to saving to suppress this warning.\n",
      "Lossy conversion from float32 to uint8. Range [9.26774248455331e-08, 1560.1336669921875]. Convert image to uint8 prior to saving to suppress this warning.\n",
      "Lossy conversion from float32 to uint8. Range [0.00012004676682408899, 1560.1336669921875]. Convert image to uint8 prior to saving to suppress this warning.\n",
      "Lossy conversion from float32 to uint8. Range [0.00011332094436511397, 1733.251953125]. Convert image to uint8 prior to saving to suppress this warning.\n",
      "Lossy conversion from float32 to uint8. Range [2.0587380276992917e-05, 1560.1336669921875]. Convert image to uint8 prior to saving to suppress this warning.\n",
      "Lossy conversion from float32 to uint8. Range [1.0056213795905933e-05, 996.8264770507812]. Convert image to uint8 prior to saving to suppress this warning.\n",
      "Lossy conversion from float32 to uint8. Range [8.878144441837321e-09, 902.1264038085938]. Convert image to uint8 prior to saving to suppress this warning.\n",
      "Lossy conversion from float32 to uint8. Range [2.610994124552235e-05, 2599.11279296875]. Convert image to uint8 prior to saving to suppress this warning.\n",
      "Lossy conversion from float32 to uint8. Range [0.0003238143981434405, 902.1264038085938]. Convert image to uint8 prior to saving to suppress this warning.\n",
      "Lossy conversion from float32 to uint8. Range [1.0056213795905933e-05, 902.1264038085938]. Convert image to uint8 prior to saving to suppress this warning.\n",
      "Lossy conversion from float32 to uint8. Range [1.0056213795905933e-05, 902.1264038085938]. Convert image to uint8 prior to saving to suppress this warning.\n",
      "Lossy conversion from float32 to uint8. Range [1.7287204627791652e-06, 1690.369384765625]. Convert image to uint8 prior to saving to suppress this warning.\n",
      "Lossy conversion from float32 to uint8. Range [3.512264257210518e-08, 1677.2283935546875]. Convert image to uint8 prior to saving to suppress this warning.\n",
      "Lossy conversion from float32 to uint8. Range [1.7287204627791652e-06, 1690.369384765625]. Convert image to uint8 prior to saving to suppress this warning.\n",
      "Lossy conversion from float32 to uint8. Range [0.00011393945896998048, 1644.7432861328125]. Convert image to uint8 prior to saving to suppress this warning.\n",
      "Lossy conversion from float32 to uint8. Range [1.7287204627791652e-06, 1690.369384765625]. Convert image to uint8 prior to saving to suppress this warning.\n",
      "Lossy conversion from float32 to uint8. Range [6.283001312112901e-06, 1677.5196533203125]. Convert image to uint8 prior to saving to suppress this warning.\n",
      "Lossy conversion from float32 to uint8. Range [1.2898777868031175e-06, 2013.1412353515625]. Convert image to uint8 prior to saving to suppress this warning.\n",
      "Lossy conversion from float32 to uint8. Range [1.153353750282804e-07, 2236.962890625]. Convert image to uint8 prior to saving to suppress this warning.\n",
      "Lossy conversion from float32 to uint8. Range [1.0270933671563398e-05, 2192.93359375]. Convert image to uint8 prior to saving to suppress this warning.\n",
      "Lossy conversion from float32 to uint8. Range [5.5240407164092176e-06, 2025.7017822265625]. Convert image to uint8 prior to saving to suppress this warning.\n",
      "Lossy conversion from float32 to uint8. Range [5.2533657424191915e-09, 2030.302978515625]. Convert image to uint8 prior to saving to suppress this warning.\n",
      "Lossy conversion from float32 to uint8. Range [0.0010239400435239077, 2065.146484375]. Convert image to uint8 prior to saving to suppress this warning.\n",
      "Lossy conversion from float32 to uint8. Range [1.6219834364505914e-08, 1855.7606201171875]. Convert image to uint8 prior to saving to suppress this warning.\n",
      "Lossy conversion from float32 to uint8. Range [6.297375512076542e-05, 2206.428955078125]. Convert image to uint8 prior to saving to suppress this warning.\n",
      "Lossy conversion from float32 to uint8. Range [4.1339737322232395e-07, 1721.1278076171875]. Convert image to uint8 prior to saving to suppress this warning.\n",
      "Lossy conversion from float32 to uint8. Range [1.6219834364505914e-08, 1895.7266845703125]. Convert image to uint8 prior to saving to suppress this warning.\n",
      "Lossy conversion from float32 to uint8. Range [1.0002373755924054e-06, 1935.2142333984375]. Convert image to uint8 prior to saving to suppress this warning.\n",
      "Lossy conversion from float32 to uint8. Range [1.6219834364505914e-08, 1855.7606201171875]. Convert image to uint8 prior to saving to suppress this warning.\n",
      "Lossy conversion from float32 to uint8. Range [4.668356632464565e-05, 1803.4547119140625]. Convert image to uint8 prior to saving to suppress this warning.\n",
      "Lossy conversion from float32 to uint8. Range [2.7716039767256007e-05, 2180.106201171875]. Convert image to uint8 prior to saving to suppress this warning.\n",
      "Lossy conversion from float32 to uint8. Range [0.00027545623015612364, 1863.7646484375]. Convert image to uint8 prior to saving to suppress this warning.\n",
      "Lossy conversion from float32 to uint8. Range [5.19987843290437e-05, 1829.100341796875]. Convert image to uint8 prior to saving to suppress this warning.\n",
      "Lossy conversion from float32 to uint8. Range [0.00017348364053759724, 1863.7646484375]. Convert image to uint8 prior to saving to suppress this warning.\n",
      "Lossy conversion from float32 to uint8. Range [8.748337677388918e-06, 1863.7646484375]. Convert image to uint8 prior to saving to suppress this warning.\n",
      "Lossy conversion from float32 to uint8. Range [1.2256721674930304e-05, 2186.591552734375]. Convert image to uint8 prior to saving to suppress this warning.\n",
      "Lossy conversion from float32 to uint8. Range [2.347572717553703e-06, 3501.274658203125]. Convert image to uint8 prior to saving to suppress this warning.\n",
      "Lossy conversion from float32 to uint8. Range [1.8910540688921174e-07, 1993.77392578125]. Convert image to uint8 prior to saving to suppress this warning.\n",
      "Lossy conversion from float32 to uint8. Range [3.2148836908163503e-06, 2276.42626953125]. Convert image to uint8 prior to saving to suppress this warning.\n",
      "Lossy conversion from float32 to uint8. Range [3.2426730740553467e-06, 2186.591552734375]. Convert image to uint8 prior to saving to suppress this warning.\n",
      "Lossy conversion from float32 to uint8. Range [8.895927976482199e-07, 2389.537841796875]. Convert image to uint8 prior to saving to suppress this warning.\n",
      "Lossy conversion from float32 to uint8. Range [1.8787353837979026e-05, 1955.0985107421875]. Convert image to uint8 prior to saving to suppress this warning.\n",
      "Lossy conversion from float32 to uint8. Range [0.0006506604258902371, 1955.0985107421875]. Convert image to uint8 prior to saving to suppress this warning.\n",
      "Lossy conversion from float32 to uint8. Range [7.4742142714967486e-06, 3162.66455078125]. Convert image to uint8 prior to saving to suppress this warning.\n",
      "Lossy conversion from float32 to uint8. Range [2.453409251756966e-06, 1876.20263671875]. Convert image to uint8 prior to saving to suppress this warning.\n",
      "Lossy conversion from float32 to uint8. Range [2.1397945602075197e-06, 1728.4464111328125]. Convert image to uint8 prior to saving to suppress this warning.\n",
      "Lossy conversion from float32 to uint8. Range [1.1124392358397017e-06, 1810.2508544921875]. Convert image to uint8 prior to saving to suppress this warning.\n",
      "Lossy conversion from float32 to uint8. Range [5.202476131671574e-06, 1193.47021484375]. Convert image to uint8 prior to saving to suppress this warning.\n",
      "Lossy conversion from float32 to uint8. Range [3.4945085644721985e-05, 1245.57177734375]. Convert image to uint8 prior to saving to suppress this warning.\n",
      "Lossy conversion from float32 to uint8. Range [6.946359007997671e-07, 2392.1376953125]. Convert image to uint8 prior to saving to suppress this warning.\n",
      "Lossy conversion from float32 to uint8. Range [7.636712689418346e-05, 1296.1595458984375]. Convert image to uint8 prior to saving to suppress this warning.\n",
      "Lossy conversion from float32 to uint8. Range [3.4945085644721985e-05, 1245.57177734375]. Convert image to uint8 prior to saving to suppress this warning.\n",
      "Lossy conversion from float32 to uint8. Range [3.4945085644721985e-05, 2475.469482421875]. Convert image to uint8 prior to saving to suppress this warning.\n",
      "Lossy conversion from float32 to uint8. Range [5.0683360086623e-07, 3313.86474609375]. Convert image to uint8 prior to saving to suppress this warning.\n",
      "Lossy conversion from float32 to uint8. Range [8.019332744879648e-05, 2655.466552734375]. Convert image to uint8 prior to saving to suppress this warning.\n",
      "Lossy conversion from float32 to uint8. Range [1.3395641872193664e-05, 2655.466552734375]. Convert image to uint8 prior to saving to suppress this warning.\n",
      "Lossy conversion from float32 to uint8. Range [8.019332744879648e-05, 2189.985107421875]. Convert image to uint8 prior to saving to suppress this warning.\n",
      "Lossy conversion from float32 to uint8. Range [4.9004011088982224e-05, 2450.50146484375]. Convert image to uint8 prior to saving to suppress this warning.\n",
      "Lossy conversion from float32 to uint8. Range [8.019332744879648e-05, 1892.5205078125]. Convert image to uint8 prior to saving to suppress this warning.\n",
      "Lossy conversion from float32 to uint8. Range [2.161923084997852e-08, 1853.0994873046875]. Convert image to uint8 prior to saving to suppress this warning.\n",
      "Lossy conversion from float32 to uint8. Range [1.889082159323152e-05, 1828.0084228515625]. Convert image to uint8 prior to saving to suppress this warning.\n",
      "Lossy conversion from float32 to uint8. Range [1.889082159323152e-05, 1896.1207275390625]. Convert image to uint8 prior to saving to suppress this warning.\n",
      "Lossy conversion from float32 to uint8. Range [1.5019996681076009e-05, 1489.271728515625]. Convert image to uint8 prior to saving to suppress this warning.\n",
      "Lossy conversion from float32 to uint8. Range [8.492472261423245e-06, 1892.7398681640625]. Convert image to uint8 prior to saving to suppress this warning.\n",
      "Lossy conversion from float32 to uint8. Range [1.2982889074919512e-07, 1828.0084228515625]. Convert image to uint8 prior to saving to suppress this warning.\n",
      "Lossy conversion from float32 to uint8. Range [1.0853482308448292e-05, 1915.871337890625]. Convert image to uint8 prior to saving to suppress this warning.\n",
      "Lossy conversion from float32 to uint8. Range [1.9638076992123388e-05, 1781.1033935546875]. Convert image to uint8 prior to saving to suppress this warning.\n",
      "Lossy conversion from float32 to uint8. Range [1.3297206351126079e-05, 1830.2069091796875]. Convert image to uint8 prior to saving to suppress this warning.\n",
      "Lossy conversion from float32 to uint8. Range [0.0005851181340403855, 2240.938720703125]. Convert image to uint8 prior to saving to suppress this warning.\n",
      "Lossy conversion from float32 to uint8. Range [1.6654790670145303e-05, 1830.2069091796875]. Convert image to uint8 prior to saving to suppress this warning.\n",
      "Lossy conversion from float32 to uint8. Range [1.6654790670145303e-05, 1830.2069091796875]. Convert image to uint8 prior to saving to suppress this warning.\n",
      "Lossy conversion from float32 to uint8. Range [9.250902621715795e-07, 1690.6531982421875]. Convert image to uint8 prior to saving to suppress this warning.\n",
      "Lossy conversion from float32 to uint8. Range [2.7207148377783597e-05, 2579.982177734375]. Convert image to uint8 prior to saving to suppress this warning.\n",
      "Lossy conversion from float32 to uint8. Range [1.1854399417643435e-05, 1682.5863037109375]. Convert image to uint8 prior to saving to suppress this warning.\n",
      "Lossy conversion from float32 to uint8. Range [7.747733548058022e-07, 2579.972900390625]. Convert image to uint8 prior to saving to suppress this warning.\n",
      "Lossy conversion from float32 to uint8. Range [2.8627197025343776e-05, 2382.99609375]. Convert image to uint8 prior to saving to suppress this warning.\n",
      "Lossy conversion from float32 to uint8. Range [5.705495823349338e-06, 3405.0107421875]. Convert image to uint8 prior to saving to suppress this warning.\n"
     ]
    }
   ],
   "source": [
    "process_audio_augment('Audio_labelled_2/fold2/', 'Audio_data/jpg/')\n",
    "process_audio_augment('Audio_labelled_2/fold3/', 'Audio_data/jpg/')"
   ]
  },
  {
   "cell_type": "markdown",
   "metadata": {
    "id": "w2LwAGu8Lnz7"
   },
   "source": [
    "Convert audio images to numpy arrays and store them in a local h5 file"
   ]
  },
  {
   "cell_type": "code",
   "execution_count": null,
   "metadata": {
    "id": "FcPIEUkdU1Po"
   },
   "outputs": [],
   "source": [
    "def jpgs_to_h5(source, target, name):\n",
    "    imread(source + '*.jpg').to_hdf5(target, name)"
   ]
  },
  {
   "cell_type": "markdown",
   "metadata": {
    "id": "KXkpKiKpXaXd"
   },
   "source": [
    "Display images for the three classes we can see there is significant difference in the three class images. These are audio features collected from the audio files . Mostly class 1 images have a dark color in the whole image. while class 3 images are mostly white as can be seen below. The highlighted difference is what is going to make the model train well on the samples."
   ]
  },
  {
   "cell_type": "code",
   "execution_count": null,
   "metadata": {
    "colab": {
     "base_uri": "https://localhost:8080/",
     "height": 644
    },
    "id": "m5T3bLGSXZwN",
    "outputId": "85117986-57e4-4598-b05d-1c93ab0d8f03"
   },
   "outputs": [
    {
     "data": {
      "image/png": "[encoded data removed]",
      "text/plain": [
       "<PIL.JpegImagePlugin.JpegImageFile image mode=L size=192x192 at 0x7F2189932520>"
      ]
     },
     "metadata": {},
     "output_type": "display_data"
    },
    {
     "name": "stdout",
     "output_type": "stream",
     "text": [
      "Class 1 1-13-03-04.wav.jpg\n"
     ]
    },
    {
     "data": {
      "image/png": "[encoded data removed]",
      "text/plain": [
       "<PIL.JpegImagePlugin.JpegImageFile image mode=L size=192x192 at 0x7F21895C21C0>"
      ]
     },
     "metadata": {},
     "output_type": "display_data"
    },
    {
     "name": "stdout",
     "output_type": "stream",
     "text": [
      "Class 2-2-02.wav5.jpg\n"
     ]
    },
    {
     "data": {
      "image/png": "[encoded data removed]",
      "text/plain": [
       "<PIL.JpegImagePlugin.JpegImageFile image mode=L size=192x192 at 0x7F2189932070>"
      ]
     },
     "metadata": {},
     "output_type": "display_data"
    },
    {
     "name": "stdout",
     "output_type": "stream",
     "text": [
      "Class 3 3-8-01.wav6.jpg\n"
     ]
    }
   ],
   "source": [
    "path=\"Audio_data/jpg/2-3-01-05.wav8.jpg\"\n",
    "display(Image.open(path))\n",
    "print('Class 1 1-13-03-04.wav.jpg')\n",
    "path=\"Audio_data/jpg/2-2-02.wav5.jpg\"\n",
    "display(Image.open(path))\n",
    "print(\"Class 2-2-02.wav5.jpg\")\n",
    "path=\"Audio_data/jpg/3-8-01.wav6.jpg\"\n",
    "display(Image.open(path))\n",
    "print(\"Class 3 3-8-01.wav6.jpg\")"
   ]
  },
  {
   "cell_type": "markdown",
   "metadata": {
    "id": "LbjpayF6Ygho"
   },
   "source": [
    "JPGS to h5"
   ]
  },
  {
   "cell_type": "markdown",
   "metadata": {
    "id": "B_QE9fcCbBKr"
   },
   "source": [
    "https://examples.dask.org/applications/image-processing.html"
   ]
  },
  {
   "cell_type": "code",
   "execution_count": null,
   "metadata": {
    "id": "McAxkYuYYYEq"
   },
   "outputs": [],
   "source": [
    "jpgs_to_h5('Audio_data/jpg/', 'Audio_h5/data.h5', 'data')"
   ]
  },
  {
   "cell_type": "code",
   "execution_count": null,
   "metadata": {
    "id": "7a-eeGPvaVVN"
   },
   "outputs": [],
   "source": [
    "x = h5py.File('Audio_h5/data.h5')['data']"
   ]
  },
  {
   "cell_type": "code",
   "execution_count": null,
   "metadata": {
    "colab": {
     "base_uri": "https://localhost:8080/"
    },
    "id": "It83QAD2fQ-k",
    "outputId": "054760fb-b160-419f-eb5c-089ec1294a1c"
   },
   "outputs": [
    {
     "data": {
      "text/plain": [
       "(410, 192, 192)"
      ]
     },
     "execution_count": 207,
     "metadata": {},
     "output_type": "execute_result"
    }
   ],
   "source": [
    "x.shape"
   ]
  },
  {
   "cell_type": "code",
   "execution_count": null,
   "metadata": {
    "id": "AEOQsZ74dymW"
   },
   "outputs": [],
   "source": [
    "x = da.from_array(x, chunks=10)"
   ]
  },
  {
   "cell_type": "code",
   "execution_count": null,
   "metadata": {
    "colab": {
     "base_uri": "https://localhost:8080/",
     "height": 203
    },
    "id": "xa88cg2td96H",
    "outputId": "22a90b34-1912-4b70-b570-b78f8183b013"
   },
   "outputs": [
    {
     "data": {
      "text/html": [
       "<table>\n",
       "    <tr>\n",
       "        <td>\n",
       "            <table>\n",
       "                <thead>\n",
       "                    <tr>\n",
       "                        <td> </td>\n",
       "                        <th> Array </th>\n",
       "                        <th> Chunk </th>\n",
       "                    </tr>\n",
       "                </thead>\n",
       "                <tbody>\n",
       "                    \n",
       "                    <tr>\n",
       "                        <th> Bytes </th>\n",
       "                        <td> 14.41 MiB </td>\n",
       "                        <td> 0.98 kiB </td>\n",
       "                    </tr>\n",
       "                    \n",
       "                    <tr>\n",
       "                        <th> Shape </th>\n",
       "                        <td> (410, 192, 192) </td>\n",
       "                        <td> (10, 10, 10) </td>\n",
       "                    </tr>\n",
       "                    <tr>\n",
       "                        <th> Count </th>\n",
       "                        <td> 16401 Tasks </td>\n",
       "                        <td> 16400 Chunks </td>\n",
       "                    </tr>\n",
       "                    <tr>\n",
       "                    <th> Type </th>\n",
       "                    <td> uint8 </td>\n",
       "                    <td> numpy.ndarray </td>\n",
       "                    </tr>\n",
       "                </tbody>\n",
       "            </table>\n",
       "        </td>\n",
       "        <td>\n",
       "        <svg width=\"186\" height=\"176\" style=\"stroke:rgb(0,0,0);stroke-width:1\" >\n",
       "\n",
       "  <!-- Horizontal lines -->\n",
       "  <line x1=\"10\" y1=\"0\" x2=\"80\" y2=\"70\" style=\"stroke-width:2\" />\n",
       "  <line x1=\"10\" y1=\"2\" x2=\"80\" y2=\"73\" />\n",
       "  <line x1=\"10\" y1=\"5\" x2=\"80\" y2=\"76\" />\n",
       "  <line x1=\"10\" y1=\"8\" x2=\"80\" y2=\"79\" />\n",
       "  <line x1=\"10\" y1=\"11\" x2=\"80\" y2=\"82\" />\n",
       "  <line x1=\"10\" y1=\"14\" x2=\"80\" y2=\"85\" />\n",
       "  <line x1=\"10\" y1=\"17\" x2=\"80\" y2=\"88\" />\n",
       "  <line x1=\"10\" y1=\"20\" x2=\"80\" y2=\"91\" />\n",
       "  <line x1=\"10\" y1=\"23\" x2=\"80\" y2=\"94\" />\n",
       "  <line x1=\"10\" y1=\"26\" x2=\"80\" y2=\"96\" />\n",
       "  <line x1=\"10\" y1=\"29\" x2=\"80\" y2=\"99\" />\n",
       "  <line x1=\"10\" y1=\"32\" x2=\"80\" y2=\"102\" />\n",
       "  <line x1=\"10\" y1=\"35\" x2=\"80\" y2=\"105\" />\n",
       "  <line x1=\"10\" y1=\"38\" x2=\"80\" y2=\"108\" />\n",
       "  <line x1=\"10\" y1=\"40\" x2=\"80\" y2=\"111\" />\n",
       "  <line x1=\"10\" y1=\"43\" x2=\"80\" y2=\"114\" />\n",
       "  <line x1=\"10\" y1=\"46\" x2=\"80\" y2=\"117\" />\n",
       "  <line x1=\"10\" y1=\"49\" x2=\"80\" y2=\"120\" />\n",
       "  <line x1=\"10\" y1=\"52\" x2=\"80\" y2=\"123\" />\n",
       "  <line x1=\"10\" y1=\"56\" x2=\"80\" y2=\"126\" style=\"stroke-width:2\" />\n",
       "\n",
       "  <!-- Vertical lines -->\n",
       "  <line x1=\"10\" y1=\"0\" x2=\"10\" y2=\"56\" style=\"stroke-width:2\" />\n",
       "  <line x1=\"13\" y1=\"3\" x2=\"13\" y2=\"59\" />\n",
       "  <line x1=\"16\" y1=\"6\" x2=\"16\" y2=\"63\" />\n",
       "  <line x1=\"20\" y1=\"10\" x2=\"20\" y2=\"66\" />\n",
       "  <line x1=\"23\" y1=\"13\" x2=\"23\" y2=\"69\" />\n",
       "  <line x1=\"27\" y1=\"17\" x2=\"27\" y2=\"73\" />\n",
       "  <line x1=\"30\" y1=\"20\" x2=\"30\" y2=\"76\" />\n",
       "  <line x1=\"35\" y1=\"25\" x2=\"35\" y2=\"82\" />\n",
       "  <line x1=\"39\" y1=\"29\" x2=\"39\" y2=\"85\" />\n",
       "  <line x1=\"42\" y1=\"32\" x2=\"42\" y2=\"88\" />\n",
       "  <line x1=\"46\" y1=\"36\" x2=\"46\" y2=\"92\" />\n",
       "  <line x1=\"49\" y1=\"39\" x2=\"49\" y2=\"95\" />\n",
       "  <line x1=\"53\" y1=\"43\" x2=\"53\" y2=\"99\" />\n",
       "  <line x1=\"58\" y1=\"48\" x2=\"58\" y2=\"104\" />\n",
       "  <line x1=\"61\" y1=\"51\" x2=\"61\" y2=\"107\" />\n",
       "  <line x1=\"65\" y1=\"55\" x2=\"65\" y2=\"111\" />\n",
       "  <line x1=\"68\" y1=\"58\" x2=\"68\" y2=\"114\" />\n",
       "  <line x1=\"71\" y1=\"61\" x2=\"71\" y2=\"118\" />\n",
       "  <line x1=\"75\" y1=\"65\" x2=\"75\" y2=\"121\" />\n",
       "  <line x1=\"80\" y1=\"70\" x2=\"80\" y2=\"126\" style=\"stroke-width:2\" />\n",
       "\n",
       "  <!-- Colored Rectangle -->\n",
       "  <polygon points=\"10.0,0.0 80.58823529411765,70.58823529411765 80.58823529411765,126.78335724533719 10.0,56.19512195121953\" style=\"fill:#8B4903A0;stroke-width:0\"/>\n",
       "\n",
       "  <!-- Horizontal lines -->\n",
       "  <line x1=\"10\" y1=\"0\" x2=\"66\" y2=\"0\" style=\"stroke-width:2\" />\n",
       "  <line x1=\"13\" y1=\"3\" x2=\"69\" y2=\"3\" />\n",
       "  <line x1=\"16\" y1=\"6\" x2=\"73\" y2=\"6\" />\n",
       "  <line x1=\"20\" y1=\"10\" x2=\"76\" y2=\"10\" />\n",
       "  <line x1=\"23\" y1=\"13\" x2=\"79\" y2=\"13\" />\n",
       "  <line x1=\"27\" y1=\"17\" x2=\"83\" y2=\"17\" />\n",
       "  <line x1=\"30\" y1=\"20\" x2=\"86\" y2=\"20\" />\n",
       "  <line x1=\"35\" y1=\"25\" x2=\"92\" y2=\"25\" />\n",
       "  <line x1=\"39\" y1=\"29\" x2=\"95\" y2=\"29\" />\n",
       "  <line x1=\"42\" y1=\"32\" x2=\"98\" y2=\"32\" />\n",
       "  <line x1=\"46\" y1=\"36\" x2=\"102\" y2=\"36\" />\n",
       "  <line x1=\"49\" y1=\"39\" x2=\"105\" y2=\"39\" />\n",
       "  <line x1=\"53\" y1=\"43\" x2=\"109\" y2=\"43\" />\n",
       "  <line x1=\"58\" y1=\"48\" x2=\"114\" y2=\"48\" />\n",
       "  <line x1=\"61\" y1=\"51\" x2=\"117\" y2=\"51\" />\n",
       "  <line x1=\"65\" y1=\"55\" x2=\"121\" y2=\"55\" />\n",
       "  <line x1=\"68\" y1=\"58\" x2=\"124\" y2=\"58\" />\n",
       "  <line x1=\"71\" y1=\"61\" x2=\"128\" y2=\"61\" />\n",
       "  <line x1=\"75\" y1=\"65\" x2=\"131\" y2=\"65\" />\n",
       "  <line x1=\"80\" y1=\"70\" x2=\"136\" y2=\"70\" style=\"stroke-width:2\" />\n",
       "\n",
       "  <!-- Vertical lines -->\n",
       "  <line x1=\"10\" y1=\"0\" x2=\"80\" y2=\"70\" style=\"stroke-width:2\" />\n",
       "  <line x1=\"12\" y1=\"0\" x2=\"83\" y2=\"70\" />\n",
       "  <line x1=\"15\" y1=\"0\" x2=\"86\" y2=\"70\" />\n",
       "  <line x1=\"18\" y1=\"0\" x2=\"89\" y2=\"70\" />\n",
       "  <line x1=\"21\" y1=\"0\" x2=\"92\" y2=\"70\" />\n",
       "  <line x1=\"24\" y1=\"0\" x2=\"95\" y2=\"70\" />\n",
       "  <line x1=\"27\" y1=\"0\" x2=\"98\" y2=\"70\" />\n",
       "  <line x1=\"30\" y1=\"0\" x2=\"101\" y2=\"70\" />\n",
       "  <line x1=\"33\" y1=\"0\" x2=\"104\" y2=\"70\" />\n",
       "  <line x1=\"36\" y1=\"0\" x2=\"106\" y2=\"70\" />\n",
       "  <line x1=\"39\" y1=\"0\" x2=\"109\" y2=\"70\" />\n",
       "  <line x1=\"42\" y1=\"0\" x2=\"112\" y2=\"70\" />\n",
       "  <line x1=\"45\" y1=\"0\" x2=\"115\" y2=\"70\" />\n",
       "  <line x1=\"48\" y1=\"0\" x2=\"118\" y2=\"70\" />\n",
       "  <line x1=\"50\" y1=\"0\" x2=\"121\" y2=\"70\" />\n",
       "  <line x1=\"53\" y1=\"0\" x2=\"124\" y2=\"70\" />\n",
       "  <line x1=\"56\" y1=\"0\" x2=\"127\" y2=\"70\" />\n",
       "  <line x1=\"59\" y1=\"0\" x2=\"130\" y2=\"70\" />\n",
       "  <line x1=\"62\" y1=\"0\" x2=\"133\" y2=\"70\" />\n",
       "  <line x1=\"66\" y1=\"0\" x2=\"136\" y2=\"70\" style=\"stroke-width:2\" />\n",
       "\n",
       "  <!-- Colored Rectangle -->\n",
       "  <polygon points=\"10.0,0.0 66.19512195121953,0.0 136.78335724533719,70.58823529411765 80.58823529411765,70.58823529411765\" style=\"fill:#8B4903A0;stroke-width:0\"/>\n",
       "\n",
       "  <!-- Horizontal lines -->\n",
       "  <line x1=\"80\" y1=\"70\" x2=\"136\" y2=\"70\" style=\"stroke-width:2\" />\n",
       "  <line x1=\"80\" y1=\"73\" x2=\"136\" y2=\"73\" />\n",
       "  <line x1=\"80\" y1=\"76\" x2=\"136\" y2=\"76\" />\n",
       "  <line x1=\"80\" y1=\"79\" x2=\"136\" y2=\"79\" />\n",
       "  <line x1=\"80\" y1=\"82\" x2=\"136\" y2=\"82\" />\n",
       "  <line x1=\"80\" y1=\"85\" x2=\"136\" y2=\"85\" />\n",
       "  <line x1=\"80\" y1=\"88\" x2=\"136\" y2=\"88\" />\n",
       "  <line x1=\"80\" y1=\"91\" x2=\"136\" y2=\"91\" />\n",
       "  <line x1=\"80\" y1=\"94\" x2=\"136\" y2=\"94\" />\n",
       "  <line x1=\"80\" y1=\"96\" x2=\"136\" y2=\"96\" />\n",
       "  <line x1=\"80\" y1=\"99\" x2=\"136\" y2=\"99\" />\n",
       "  <line x1=\"80\" y1=\"102\" x2=\"136\" y2=\"102\" />\n",
       "  <line x1=\"80\" y1=\"105\" x2=\"136\" y2=\"105\" />\n",
       "  <line x1=\"80\" y1=\"108\" x2=\"136\" y2=\"108\" />\n",
       "  <line x1=\"80\" y1=\"111\" x2=\"136\" y2=\"111\" />\n",
       "  <line x1=\"80\" y1=\"114\" x2=\"136\" y2=\"114\" />\n",
       "  <line x1=\"80\" y1=\"117\" x2=\"136\" y2=\"117\" />\n",
       "  <line x1=\"80\" y1=\"120\" x2=\"136\" y2=\"120\" />\n",
       "  <line x1=\"80\" y1=\"123\" x2=\"136\" y2=\"123\" />\n",
       "  <line x1=\"80\" y1=\"126\" x2=\"136\" y2=\"126\" style=\"stroke-width:2\" />\n",
       "\n",
       "  <!-- Vertical lines -->\n",
       "  <line x1=\"80\" y1=\"70\" x2=\"80\" y2=\"126\" style=\"stroke-width:2\" />\n",
       "  <line x1=\"83\" y1=\"70\" x2=\"83\" y2=\"126\" />\n",
       "  <line x1=\"86\" y1=\"70\" x2=\"86\" y2=\"126\" />\n",
       "  <line x1=\"89\" y1=\"70\" x2=\"89\" y2=\"126\" />\n",
       "  <line x1=\"92\" y1=\"70\" x2=\"92\" y2=\"126\" />\n",
       "  <line x1=\"95\" y1=\"70\" x2=\"95\" y2=\"126\" />\n",
       "  <line x1=\"98\" y1=\"70\" x2=\"98\" y2=\"126\" />\n",
       "  <line x1=\"101\" y1=\"70\" x2=\"101\" y2=\"126\" />\n",
       "  <line x1=\"104\" y1=\"70\" x2=\"104\" y2=\"126\" />\n",
       "  <line x1=\"106\" y1=\"70\" x2=\"106\" y2=\"126\" />\n",
       "  <line x1=\"109\" y1=\"70\" x2=\"109\" y2=\"126\" />\n",
       "  <line x1=\"112\" y1=\"70\" x2=\"112\" y2=\"126\" />\n",
       "  <line x1=\"115\" y1=\"70\" x2=\"115\" y2=\"126\" />\n",
       "  <line x1=\"118\" y1=\"70\" x2=\"118\" y2=\"126\" />\n",
       "  <line x1=\"121\" y1=\"70\" x2=\"121\" y2=\"126\" />\n",
       "  <line x1=\"124\" y1=\"70\" x2=\"124\" y2=\"126\" />\n",
       "  <line x1=\"127\" y1=\"70\" x2=\"127\" y2=\"126\" />\n",
       "  <line x1=\"130\" y1=\"70\" x2=\"130\" y2=\"126\" />\n",
       "  <line x1=\"133\" y1=\"70\" x2=\"133\" y2=\"126\" />\n",
       "  <line x1=\"136\" y1=\"70\" x2=\"136\" y2=\"126\" style=\"stroke-width:2\" />\n",
       "\n",
       "  <!-- Colored Rectangle -->\n",
       "  <polygon points=\"80.58823529411765,70.58823529411765 136.78335724533719,70.58823529411765 136.78335724533719,126.78335724533719 80.58823529411765,126.78335724533719\" style=\"fill:#8B4903A0;stroke-width:0\"/>\n",
       "\n",
       "  <!-- Text -->\n",
       "  <text x=\"108.685796\" y=\"146.783357\" font-size=\"1.0rem\" font-weight=\"100\" text-anchor=\"middle\" >192</text>\n",
       "  <text x=\"156.783357\" y=\"98.685796\" font-size=\"1.0rem\" font-weight=\"100\" text-anchor=\"middle\" transform=\"rotate(-90,156.783357,98.685796)\">192</text>\n",
       "  <text x=\"35.294118\" y=\"111.489240\" font-size=\"1.0rem\" font-weight=\"100\" text-anchor=\"middle\" transform=\"rotate(45,35.294118,111.489240)\">410</text>\n",
       "</svg>\n",
       "        </td>\n",
       "    </tr>\n",
       "</table>"
      ],
      "text/plain": [
       "dask.array<array, shape=(410, 192, 192), dtype=uint8, chunksize=(10, 10, 10), chunktype=numpy.ndarray>"
      ]
     },
     "execution_count": 209,
     "metadata": {},
     "output_type": "execute_result"
    }
   ],
   "source": [
    "x"
   ]
  },
  {
   "cell_type": "code",
   "execution_count": null,
   "metadata": {
    "colab": {
     "base_uri": "https://localhost:8080/",
     "height": 197
    },
    "id": "CReT0e9eeC_m",
    "outputId": "50fe84bc-1ae5-49b2-ff14-11ac44b5f5c0"
   },
   "outputs": [
    {
     "data": {
      "text/html": [
       "<table>\n",
       "    <tr>\n",
       "        <td>\n",
       "            <table>\n",
       "                <thead>\n",
       "                    <tr>\n",
       "                        <td> </td>\n",
       "                        <th> Array </th>\n",
       "                        <th> Chunk </th>\n",
       "                    </tr>\n",
       "                </thead>\n",
       "                <tbody>\n",
       "                    \n",
       "                    <tr>\n",
       "                        <th> Bytes </th>\n",
       "                        <td> 36.00 kiB </td>\n",
       "                        <td> 100 B </td>\n",
       "                    </tr>\n",
       "                    \n",
       "                    <tr>\n",
       "                        <th> Shape </th>\n",
       "                        <td> (192, 192) </td>\n",
       "                        <td> (10, 10) </td>\n",
       "                    </tr>\n",
       "                    <tr>\n",
       "                        <th> Count </th>\n",
       "                        <td> 16801 Tasks </td>\n",
       "                        <td> 400 Chunks </td>\n",
       "                    </tr>\n",
       "                    <tr>\n",
       "                    <th> Type </th>\n",
       "                    <td> uint8 </td>\n",
       "                    <td> numpy.ndarray </td>\n",
       "                    </tr>\n",
       "                </tbody>\n",
       "            </table>\n",
       "        </td>\n",
       "        <td>\n",
       "        <svg width=\"170\" height=\"170\" style=\"stroke:rgb(0,0,0);stroke-width:1\" >\n",
       "\n",
       "  <!-- Horizontal lines -->\n",
       "  <line x1=\"0\" y1=\"0\" x2=\"120\" y2=\"0\" style=\"stroke-width:2\" />\n",
       "  <line x1=\"0\" y1=\"6\" x2=\"120\" y2=\"6\" />\n",
       "  <line x1=\"0\" y1=\"12\" x2=\"120\" y2=\"12\" />\n",
       "  <line x1=\"0\" y1=\"18\" x2=\"120\" y2=\"18\" />\n",
       "  <line x1=\"0\" y1=\"25\" x2=\"120\" y2=\"25\" />\n",
       "  <line x1=\"0\" y1=\"31\" x2=\"120\" y2=\"31\" />\n",
       "  <line x1=\"0\" y1=\"37\" x2=\"120\" y2=\"37\" />\n",
       "  <line x1=\"0\" y1=\"43\" x2=\"120\" y2=\"43\" />\n",
       "  <line x1=\"0\" y1=\"50\" x2=\"120\" y2=\"50\" />\n",
       "  <line x1=\"0\" y1=\"56\" x2=\"120\" y2=\"56\" />\n",
       "  <line x1=\"0\" y1=\"62\" x2=\"120\" y2=\"62\" />\n",
       "  <line x1=\"0\" y1=\"68\" x2=\"120\" y2=\"68\" />\n",
       "  <line x1=\"0\" y1=\"75\" x2=\"120\" y2=\"75\" />\n",
       "  <line x1=\"0\" y1=\"81\" x2=\"120\" y2=\"81\" />\n",
       "  <line x1=\"0\" y1=\"87\" x2=\"120\" y2=\"87\" />\n",
       "  <line x1=\"0\" y1=\"93\" x2=\"120\" y2=\"93\" />\n",
       "  <line x1=\"0\" y1=\"100\" x2=\"120\" y2=\"100\" />\n",
       "  <line x1=\"0\" y1=\"106\" x2=\"120\" y2=\"106\" />\n",
       "  <line x1=\"0\" y1=\"112\" x2=\"120\" y2=\"112\" />\n",
       "  <line x1=\"0\" y1=\"120\" x2=\"120\" y2=\"120\" style=\"stroke-width:2\" />\n",
       "\n",
       "  <!-- Vertical lines -->\n",
       "  <line x1=\"0\" y1=\"0\" x2=\"0\" y2=\"120\" style=\"stroke-width:2\" />\n",
       "  <line x1=\"6\" y1=\"0\" x2=\"6\" y2=\"120\" />\n",
       "  <line x1=\"12\" y1=\"0\" x2=\"12\" y2=\"120\" />\n",
       "  <line x1=\"18\" y1=\"0\" x2=\"18\" y2=\"120\" />\n",
       "  <line x1=\"25\" y1=\"0\" x2=\"25\" y2=\"120\" />\n",
       "  <line x1=\"31\" y1=\"0\" x2=\"31\" y2=\"120\" />\n",
       "  <line x1=\"37\" y1=\"0\" x2=\"37\" y2=\"120\" />\n",
       "  <line x1=\"43\" y1=\"0\" x2=\"43\" y2=\"120\" />\n",
       "  <line x1=\"50\" y1=\"0\" x2=\"50\" y2=\"120\" />\n",
       "  <line x1=\"56\" y1=\"0\" x2=\"56\" y2=\"120\" />\n",
       "  <line x1=\"62\" y1=\"0\" x2=\"62\" y2=\"120\" />\n",
       "  <line x1=\"68\" y1=\"0\" x2=\"68\" y2=\"120\" />\n",
       "  <line x1=\"75\" y1=\"0\" x2=\"75\" y2=\"120\" />\n",
       "  <line x1=\"81\" y1=\"0\" x2=\"81\" y2=\"120\" />\n",
       "  <line x1=\"87\" y1=\"0\" x2=\"87\" y2=\"120\" />\n",
       "  <line x1=\"93\" y1=\"0\" x2=\"93\" y2=\"120\" />\n",
       "  <line x1=\"100\" y1=\"0\" x2=\"100\" y2=\"120\" />\n",
       "  <line x1=\"106\" y1=\"0\" x2=\"106\" y2=\"120\" />\n",
       "  <line x1=\"112\" y1=\"0\" x2=\"112\" y2=\"120\" />\n",
       "  <line x1=\"120\" y1=\"0\" x2=\"120\" y2=\"120\" style=\"stroke-width:2\" />\n",
       "\n",
       "  <!-- Colored Rectangle -->\n",
       "  <polygon points=\"0.0,0.0 120.0,0.0 120.0,120.0 0.0,120.0\" style=\"fill:#8B4903A0;stroke-width:0\"/>\n",
       "\n",
       "  <!-- Text -->\n",
       "  <text x=\"60.000000\" y=\"140.000000\" font-size=\"1.0rem\" font-weight=\"100\" text-anchor=\"middle\" >192</text>\n",
       "  <text x=\"140.000000\" y=\"60.000000\" font-size=\"1.0rem\" font-weight=\"100\" text-anchor=\"middle\" transform=\"rotate(-90,140.000000,60.000000)\">192</text>\n",
       "</svg>\n",
       "        </td>\n",
       "    </tr>\n",
       "</table>"
      ],
      "text/plain": [
       "dask.array<getitem, shape=(192, 192), dtype=uint8, chunksize=(10, 10), chunktype=numpy.ndarray>"
      ]
     },
     "execution_count": 210,
     "metadata": {},
     "output_type": "execute_result"
    }
   ],
   "source": [
    "x[0]"
   ]
  },
  {
   "cell_type": "markdown",
   "metadata": {
    "id": "PW-ezIYwI10l"
   },
   "source": []
  },
  {
   "cell_type": "code",
   "execution_count": null,
   "metadata": {
    "colab": {
     "base_uri": "https://localhost:8080/",
     "height": 142
    },
    "id": "qXkYW6MUusJG",
    "outputId": "31c21b1d-3a0b-4a07-951c-303cdd3032b2"
   },
   "outputs": [
    {
     "data": {
      "text/html": [
       "<div>\n",
       "<style scoped>\n",
       "    .dataframe tbody tr th:only-of-type {\n",
       "        vertical-align: middle;\n",
       "    }\n",
       "\n",
       "    .dataframe tbody tr th {\n",
       "        vertical-align: top;\n",
       "    }\n",
       "\n",
       "    .dataframe thead th {\n",
       "        text-align: right;\n",
       "    }\n",
       "</style>\n",
       "<table border=\"1\" class=\"dataframe\">\n",
       "  <thead>\n",
       "    <tr style=\"text-align: right;\">\n",
       "      <th></th>\n",
       "      <th>file_name</th>\n",
       "      <th>class</th>\n",
       "    </tr>\n",
       "  </thead>\n",
       "  <tbody>\n",
       "    <tr>\n",
       "      <th>0</th>\n",
       "      <td>1-1-01-01.wav.jpg</td>\n",
       "      <td>SV</td>\n",
       "    </tr>\n",
       "    <tr>\n",
       "      <th>1</th>\n",
       "      <td>1-1-01-02.wav.jpg</td>\n",
       "      <td>SV</td>\n",
       "    </tr>\n",
       "    <tr>\n",
       "      <th>2</th>\n",
       "      <td>1-1-01-03.wav.jpg</td>\n",
       "      <td>SV</td>\n",
       "    </tr>\n",
       "  </tbody>\n",
       "</table>\n",
       "</div>"
      ],
      "text/plain": [
       "           file_name class\n",
       "0  1-1-01-01.wav.jpg    SV\n",
       "1  1-1-01-02.wav.jpg    SV\n",
       "2  1-1-01-03.wav.jpg    SV"
      ]
     },
     "execution_count": 211,
     "metadata": {},
     "output_type": "execute_result"
    }
   ],
   "source": [
    "\n",
    "df_labels = pd.DataFrame(columns=['file_name', 'class'])\n",
    "files_jpg = os.listdir(\"Audio_data/jpg/\")\n",
    "files_jpg.sort(reverse=False)\n",
    "index=0\n",
    "for f in files_jpg:\n",
    "    df_labels.loc[index, 'file_name'] = f\n",
    "    fold = int(f.split(\"-\")[0])\n",
    "    if fold == 1:\n",
    "        df_labels.loc[index, 'class'] = \"SV\"\n",
    "    elif fold == 2:\n",
    "        df_labels.loc[index, 'class'] = \"MV\"\n",
    "    elif fold == 3:\n",
    "        df_labels.loc[index, 'class'] = \"NV\"\n",
    "    index+=1\n",
    "\n",
    "df_labels.head(3)    "
   ]
  },
  {
   "cell_type": "code",
   "execution_count": null,
   "metadata": {
    "colab": {
     "base_uri": "https://localhost:8080/"
    },
    "id": "eM5h7RJPyesD",
    "outputId": "ca0ea8d4-2db5-4dfa-a4be-ec92ee6d472f"
   },
   "outputs": [
    {
     "data": {
      "text/plain": [
       "MV    174\n",
       "SV    129\n",
       "NV    107\n",
       "Name: class, dtype: int64"
      ]
     },
     "execution_count": 215,
     "metadata": {},
     "output_type": "execute_result"
    }
   ],
   "source": [
    "#no of value counts for current df\n",
    "df_labels[\"class\"].value_counts()"
   ]
  },
  {
   "cell_type": "code",
   "execution_count": null,
   "metadata": {
    "colab": {
     "base_uri": "https://localhost:8080/",
     "height": 282
    },
    "id": "R-0UAv8IgsAp",
    "outputId": "07426ad3-eb95-417d-ea68-6036c3f61191"
   },
   "outputs": [
    {
     "name": "stdout",
     "output_type": "stream",
     "text": [
      "[[0 0 1]\n",
      " [0 0 1]\n",
      " [0 0 1]\n",
      " [0 0 1]\n",
      " [0 0 1]]\n"
     ]
    },
    {
     "data": {
      "text/html": [
       "<table>\n",
       "    <tr>\n",
       "        <td>\n",
       "            <table>\n",
       "                <thead>\n",
       "                    <tr>\n",
       "                        <td> </td>\n",
       "                        <th> Array </th>\n",
       "                        <th> Chunk </th>\n",
       "                    </tr>\n",
       "                </thead>\n",
       "                <tbody>\n",
       "                    \n",
       "                    <tr>\n",
       "                        <th> Bytes </th>\n",
       "                        <td> 1.20 kiB </td>\n",
       "                        <td> 30 B </td>\n",
       "                    </tr>\n",
       "                    \n",
       "                    <tr>\n",
       "                        <th> Shape </th>\n",
       "                        <td> (410, 3) </td>\n",
       "                        <td> (10, 3) </td>\n",
       "                    </tr>\n",
       "                    <tr>\n",
       "                        <th> Count </th>\n",
       "                        <td> 41 Tasks </td>\n",
       "                        <td> 41 Chunks </td>\n",
       "                    </tr>\n",
       "                    <tr>\n",
       "                    <th> Type </th>\n",
       "                    <td> uint8 </td>\n",
       "                    <td> numpy.ndarray </td>\n",
       "                    </tr>\n",
       "                </tbody>\n",
       "            </table>\n",
       "        </td>\n",
       "        <td>\n",
       "        <svg width=\"75\" height=\"170\" style=\"stroke:rgb(0,0,0);stroke-width:1\" >\n",
       "\n",
       "  <!-- Horizontal lines -->\n",
       "  <line x1=\"0\" y1=\"0\" x2=\"25\" y2=\"0\" style=\"stroke-width:2\" />\n",
       "  <line x1=\"0\" y1=\"5\" x2=\"25\" y2=\"5\" />\n",
       "  <line x1=\"0\" y1=\"11\" x2=\"25\" y2=\"11\" />\n",
       "  <line x1=\"0\" y1=\"17\" x2=\"25\" y2=\"17\" />\n",
       "  <line x1=\"0\" y1=\"23\" x2=\"25\" y2=\"23\" />\n",
       "  <line x1=\"0\" y1=\"29\" x2=\"25\" y2=\"29\" />\n",
       "  <line x1=\"0\" y1=\"35\" x2=\"25\" y2=\"35\" />\n",
       "  <line x1=\"0\" y1=\"43\" x2=\"25\" y2=\"43\" />\n",
       "  <line x1=\"0\" y1=\"49\" x2=\"25\" y2=\"49\" />\n",
       "  <line x1=\"0\" y1=\"55\" x2=\"25\" y2=\"55\" />\n",
       "  <line x1=\"0\" y1=\"61\" x2=\"25\" y2=\"61\" />\n",
       "  <line x1=\"0\" y1=\"67\" x2=\"25\" y2=\"67\" />\n",
       "  <line x1=\"0\" y1=\"73\" x2=\"25\" y2=\"73\" />\n",
       "  <line x1=\"0\" y1=\"81\" x2=\"25\" y2=\"81\" />\n",
       "  <line x1=\"0\" y1=\"87\" x2=\"25\" y2=\"87\" />\n",
       "  <line x1=\"0\" y1=\"93\" x2=\"25\" y2=\"93\" />\n",
       "  <line x1=\"0\" y1=\"99\" x2=\"25\" y2=\"99\" />\n",
       "  <line x1=\"0\" y1=\"105\" x2=\"25\" y2=\"105\" />\n",
       "  <line x1=\"0\" y1=\"111\" x2=\"25\" y2=\"111\" />\n",
       "  <line x1=\"0\" y1=\"120\" x2=\"25\" y2=\"120\" style=\"stroke-width:2\" />\n",
       "\n",
       "  <!-- Vertical lines -->\n",
       "  <line x1=\"0\" y1=\"0\" x2=\"0\" y2=\"120\" style=\"stroke-width:2\" />\n",
       "  <line x1=\"25\" y1=\"0\" x2=\"25\" y2=\"120\" style=\"stroke-width:2\" />\n",
       "\n",
       "  <!-- Colored Rectangle -->\n",
       "  <polygon points=\"0.0,0.0 25.412616514582485,0.0 25.412616514582485,120.0 0.0,120.0\" style=\"fill:#8B4903A0;stroke-width:0\"/>\n",
       "\n",
       "  <!-- Text -->\n",
       "  <text x=\"12.706308\" y=\"140.000000\" font-size=\"1.0rem\" font-weight=\"100\" text-anchor=\"middle\" >3</text>\n",
       "  <text x=\"45.412617\" y=\"60.000000\" font-size=\"1.0rem\" font-weight=\"100\" text-anchor=\"middle\" transform=\"rotate(-90,45.412617,60.000000)\">410</text>\n",
       "</svg>\n",
       "        </td>\n",
       "    </tr>\n",
       "</table>"
      ],
      "text/plain": [
       "dask.array<array, shape=(410, 3), dtype=uint8, chunksize=(10, 3), chunktype=numpy.ndarray>"
      ]
     },
     "execution_count": 216,
     "metadata": {},
     "output_type": "execute_result"
    }
   ],
   "source": [
    "y = df_labels.iloc[:, 1]\n",
    "y = pd.get_dummies(y)\n",
    "y = y.reindex(sorted(y.columns), axis=1)\n",
    "y = y.values\n",
    "print(y[:5])\n",
    "y = da.from_array(y, chunks=10)\n",
    "y"
   ]
  },
  {
   "cell_type": "markdown",
   "metadata": {
    "id": "348v23r_I5H9"
   },
   "source": [
    "We have a total of 410 training and testing audio images. We are going to split the dataset with 300 audio training set, validation set of 55 samples and 55 testing samples. The dataset will be shuffled before splitting and the numpy array values for the images will be saved to a h5 file with respective "
   ]
  },
  {
   "cell_type": "code",
   "execution_count": null,
   "metadata": {
    "id": "p2EU-krWffXl"
   },
   "outputs": [],
   "source": [
    "data_size = 410\n",
    "tr_size = 300\n",
    "va_size = 55\n",
    "te_size = 55\n",
    "np.random.seed(42)\n",
    "shfl = np.random.permutation(data_size)\n",
    "\n",
    "tr_idx = shfl[:tr_size]\n",
    "va_idx = shfl[tr_size:tr_size+va_size]\n",
    "te_idx = shfl[tr_size+va_size:]\n",
    "\n",
    "x[tr_idx].to_hdf5('Audio_data/x_tr.h5', 'x_tr')\n",
    "y[tr_idx].to_hdf5('Audio_data/y_tr.h5', 'y_tr')\n",
    "x[va_idx].to_hdf5('Audio_data/x_va.h5', 'x_va')\n",
    "y[va_idx].to_hdf5('Audio_data/y_va.h5', 'y_va')\n",
    "x[te_idx].to_hdf5('Audio_data/x_te.h5', 'x_te')\n",
    "y[te_idx].to_hdf5('Audio_data/y_te.h5', 'y_te')"
   ]
  },
  {
   "cell_type": "code",
   "execution_count": null,
   "metadata": {
    "colab": {
     "base_uri": "https://localhost:8080/"
    },
    "id": "aEzUf68M2H8j",
    "outputId": "66e7abd4-3420-4c71-e77b-fd9a37fc323a"
   },
   "outputs": [
    {
     "data": {
      "text/plain": [
       "(300,)"
      ]
     },
     "execution_count": 218,
     "metadata": {},
     "output_type": "execute_result"
    }
   ],
   "source": [
    "tr_idx.shape"
   ]
  },
  {
   "cell_type": "code",
   "execution_count": null,
   "metadata": {
    "colab": {
     "base_uri": "https://localhost:8080/"
    },
    "id": "Pi0mQtw710WY",
    "outputId": "3ba65f23-4114-4a2b-81a7-34bf0482f312"
   },
   "outputs": [
    {
     "data": {
      "text/plain": [
       "(55,)"
      ]
     },
     "execution_count": 219,
     "metadata": {},
     "output_type": "execute_result"
    }
   ],
   "source": [
    "te_idx.shape"
   ]
  },
  {
   "cell_type": "code",
   "execution_count": null,
   "metadata": {
    "colab": {
     "base_uri": "https://localhost:8080/"
    },
    "id": "TpAd49zk885h",
    "outputId": "2bf3751e-330c-408e-a7b4-e459ba0f99ff"
   },
   "outputs": [
    {
     "data": {
      "text/plain": [
       "(55,)"
      ]
     },
     "execution_count": 220,
     "metadata": {},
     "output_type": "execute_result"
    }
   ],
   "source": [
    "va_idx.shape"
   ]
  },
  {
   "cell_type": "code",
   "execution_count": null,
   "metadata": {
    "colab": {
     "base_uri": "https://localhost:8080/"
    },
    "id": "HpvkWKu3hTg_",
    "outputId": "c47d6461-0586-4f68-e1f7-5c3089417ede"
   },
   "outputs": [
    {
     "name": "stdout",
     "output_type": "stream",
     "text": [
      "(300, 192, 192) (300, 3)\n",
      "(55, 192, 192) (55, 3)\n",
      "(55, 192, 192) (55, 3)\n"
     ]
    }
   ],
   "source": [
    "x_tr = da.from_array(h5py.File('Audio_data/x_tr.h5')['x_tr'], chunks=10)\n",
    "y_tr = da.from_array(h5py.File('Audio_data/y_tr.h5')['y_tr'], chunks=10)\n",
    "print(x_tr.shape, y_tr.shape)\n",
    "\n",
    "x_va = da.from_array(h5py.File('Audio_data/x_va.h5')['x_va'], chunks=10)\n",
    "y_va = da.from_array(h5py.File('Audio_data/y_va.h5')['y_va'], chunks=10)\n",
    "print(x_va.shape, y_va.shape)\n",
    "\n",
    "x_te = da.from_array(h5py.File('Audio_data/x_te.h5')['x_te'], chunks=10)\n",
    "y_te = da.from_array(h5py.File('Audio_data/y_te.h5')['y_te'], chunks=10)\n",
    "print(x_te.shape, y_te.shape)"
   ]
  },
  {
   "cell_type": "markdown",
   "metadata": {
    "id": "q1R39U1mPsmZ"
   },
   "source": [
    "Scale X"
   ]
  },
  {
   "cell_type": "code",
   "execution_count": null,
   "metadata": {
    "id": "BWPI5XHghm-n"
   },
   "outputs": [],
   "source": [
    "x_tr /= 255.\n",
    "x_va /= 255.\n",
    "x_te /= 255."
   ]
  },
  {
   "cell_type": "code",
   "execution_count": null,
   "metadata": {
    "colab": {
     "base_uri": "https://localhost:8080/",
     "height": 224
    },
    "id": "qLpA0v8B8CpO",
    "outputId": "e8465e7c-bf8a-4c50-80ef-dd6972f23df6"
   },
   "outputs": [
    {
     "data": {
      "text/html": [
       "<table>\n",
       "    <tr>\n",
       "        <td>\n",
       "            <table>\n",
       "                <thead>\n",
       "                    <tr>\n",
       "                        <td> </td>\n",
       "                        <th> Array </th>\n",
       "                        <th> Chunk </th>\n",
       "                    </tr>\n",
       "                </thead>\n",
       "                <tbody>\n",
       "                    \n",
       "                    <tr>\n",
       "                        <th> Bytes </th>\n",
       "                        <td> 84.38 MiB </td>\n",
       "                        <td> 7.81 kiB </td>\n",
       "                    </tr>\n",
       "                    \n",
       "                    <tr>\n",
       "                        <th> Shape </th>\n",
       "                        <td> (300, 192, 192) </td>\n",
       "                        <td> (10, 10, 10) </td>\n",
       "                    </tr>\n",
       "                    <tr>\n",
       "                        <th> Count </th>\n",
       "                        <td> 24001 Tasks </td>\n",
       "                        <td> 12000 Chunks </td>\n",
       "                    </tr>\n",
       "                    <tr>\n",
       "                    <th> Type </th>\n",
       "                    <td> float64 </td>\n",
       "                    <td> numpy.ndarray </td>\n",
       "                    </tr>\n",
       "                </tbody>\n",
       "            </table>\n",
       "        </td>\n",
       "        <td>\n",
       "        <svg width=\"207\" height=\"197\" style=\"stroke:rgb(0,0,0);stroke-width:1\" >\n",
       "\n",
       "  <!-- Horizontal lines -->\n",
       "  <line x1=\"10\" y1=\"0\" x2=\"80\" y2=\"70\" style=\"stroke-width:2\" />\n",
       "  <line x1=\"10\" y1=\"4\" x2=\"80\" y2=\"74\" />\n",
       "  <line x1=\"10\" y1=\"8\" x2=\"80\" y2=\"78\" />\n",
       "  <line x1=\"10\" y1=\"12\" x2=\"80\" y2=\"82\" />\n",
       "  <line x1=\"10\" y1=\"16\" x2=\"80\" y2=\"86\" />\n",
       "  <line x1=\"10\" y1=\"20\" x2=\"80\" y2=\"90\" />\n",
       "  <line x1=\"10\" y1=\"24\" x2=\"80\" y2=\"94\" />\n",
       "  <line x1=\"10\" y1=\"28\" x2=\"80\" y2=\"98\" />\n",
       "  <line x1=\"10\" y1=\"32\" x2=\"80\" y2=\"102\" />\n",
       "  <line x1=\"10\" y1=\"36\" x2=\"80\" y2=\"106\" />\n",
       "  <line x1=\"10\" y1=\"40\" x2=\"80\" y2=\"110\" />\n",
       "  <line x1=\"10\" y1=\"44\" x2=\"80\" y2=\"114\" />\n",
       "  <line x1=\"10\" y1=\"48\" x2=\"80\" y2=\"118\" />\n",
       "  <line x1=\"10\" y1=\"52\" x2=\"80\" y2=\"122\" />\n",
       "  <line x1=\"10\" y1=\"56\" x2=\"80\" y2=\"126\" />\n",
       "  <line x1=\"10\" y1=\"60\" x2=\"80\" y2=\"130\" />\n",
       "  <line x1=\"10\" y1=\"64\" x2=\"80\" y2=\"134\" />\n",
       "  <line x1=\"10\" y1=\"68\" x2=\"80\" y2=\"138\" />\n",
       "  <line x1=\"10\" y1=\"72\" x2=\"80\" y2=\"142\" />\n",
       "  <line x1=\"10\" y1=\"76\" x2=\"80\" y2=\"147\" style=\"stroke-width:2\" />\n",
       "\n",
       "  <!-- Vertical lines -->\n",
       "  <line x1=\"10\" y1=\"0\" x2=\"10\" y2=\"76\" style=\"stroke-width:2\" />\n",
       "  <line x1=\"12\" y1=\"2\" x2=\"12\" y2=\"79\" />\n",
       "  <line x1=\"17\" y1=\"7\" x2=\"17\" y2=\"83\" />\n",
       "  <line x1=\"19\" y1=\"9\" x2=\"19\" y2=\"86\" />\n",
       "  <line x1=\"24\" y1=\"14\" x2=\"24\" y2=\"90\" />\n",
       "  <line x1=\"26\" y1=\"16\" x2=\"26\" y2=\"93\" />\n",
       "  <line x1=\"31\" y1=\"21\" x2=\"31\" y2=\"97\" />\n",
       "  <line x1=\"35\" y1=\"25\" x2=\"35\" y2=\"102\" />\n",
       "  <line x1=\"38\" y1=\"28\" x2=\"38\" y2=\"105\" />\n",
       "  <line x1=\"42\" y1=\"32\" x2=\"42\" y2=\"109\" />\n",
       "  <line x1=\"45\" y1=\"35\" x2=\"45\" y2=\"112\" />\n",
       "  <line x1=\"50\" y1=\"40\" x2=\"50\" y2=\"116\" />\n",
       "  <line x1=\"52\" y1=\"42\" x2=\"52\" y2=\"119\" />\n",
       "  <line x1=\"57\" y1=\"47\" x2=\"57\" y2=\"123\" />\n",
       "  <line x1=\"61\" y1=\"51\" x2=\"61\" y2=\"128\" />\n",
       "  <line x1=\"64\" y1=\"54\" x2=\"64\" y2=\"130\" />\n",
       "  <line x1=\"68\" y1=\"58\" x2=\"68\" y2=\"135\" />\n",
       "  <line x1=\"71\" y1=\"61\" x2=\"71\" y2=\"137\" />\n",
       "  <line x1=\"75\" y1=\"65\" x2=\"75\" y2=\"142\" />\n",
       "  <line x1=\"80\" y1=\"70\" x2=\"80\" y2=\"147\" style=\"stroke-width:2\" />\n",
       "\n",
       "  <!-- Colored Rectangle -->\n",
       "  <polygon points=\"10.0,0.0 80.58823529411765,70.58823529411765 80.58823529411765,147.38823529411764 10.0,76.8\" style=\"fill:#8B4903A0;stroke-width:0\"/>\n",
       "\n",
       "  <!-- Horizontal lines -->\n",
       "  <line x1=\"10\" y1=\"0\" x2=\"86\" y2=\"0\" style=\"stroke-width:2\" />\n",
       "  <line x1=\"12\" y1=\"2\" x2=\"89\" y2=\"2\" />\n",
       "  <line x1=\"17\" y1=\"7\" x2=\"93\" y2=\"7\" />\n",
       "  <line x1=\"19\" y1=\"9\" x2=\"96\" y2=\"9\" />\n",
       "  <line x1=\"24\" y1=\"14\" x2=\"100\" y2=\"14\" />\n",
       "  <line x1=\"26\" y1=\"16\" x2=\"103\" y2=\"16\" />\n",
       "  <line x1=\"31\" y1=\"21\" x2=\"107\" y2=\"21\" />\n",
       "  <line x1=\"35\" y1=\"25\" x2=\"112\" y2=\"25\" />\n",
       "  <line x1=\"38\" y1=\"28\" x2=\"115\" y2=\"28\" />\n",
       "  <line x1=\"42\" y1=\"32\" x2=\"119\" y2=\"32\" />\n",
       "  <line x1=\"45\" y1=\"35\" x2=\"122\" y2=\"35\" />\n",
       "  <line x1=\"50\" y1=\"40\" x2=\"126\" y2=\"40\" />\n",
       "  <line x1=\"52\" y1=\"42\" x2=\"129\" y2=\"42\" />\n",
       "  <line x1=\"57\" y1=\"47\" x2=\"133\" y2=\"47\" />\n",
       "  <line x1=\"61\" y1=\"51\" x2=\"138\" y2=\"51\" />\n",
       "  <line x1=\"64\" y1=\"54\" x2=\"140\" y2=\"54\" />\n",
       "  <line x1=\"68\" y1=\"58\" x2=\"145\" y2=\"58\" />\n",
       "  <line x1=\"71\" y1=\"61\" x2=\"147\" y2=\"61\" />\n",
       "  <line x1=\"75\" y1=\"65\" x2=\"152\" y2=\"65\" />\n",
       "  <line x1=\"80\" y1=\"70\" x2=\"157\" y2=\"70\" style=\"stroke-width:2\" />\n",
       "\n",
       "  <!-- Vertical lines -->\n",
       "  <line x1=\"10\" y1=\"0\" x2=\"80\" y2=\"70\" style=\"stroke-width:2\" />\n",
       "  <line x1=\"14\" y1=\"0\" x2=\"84\" y2=\"70\" />\n",
       "  <line x1=\"18\" y1=\"0\" x2=\"88\" y2=\"70\" />\n",
       "  <line x1=\"22\" y1=\"0\" x2=\"92\" y2=\"70\" />\n",
       "  <line x1=\"26\" y1=\"0\" x2=\"96\" y2=\"70\" />\n",
       "  <line x1=\"30\" y1=\"0\" x2=\"100\" y2=\"70\" />\n",
       "  <line x1=\"34\" y1=\"0\" x2=\"104\" y2=\"70\" />\n",
       "  <line x1=\"38\" y1=\"0\" x2=\"108\" y2=\"70\" />\n",
       "  <line x1=\"42\" y1=\"0\" x2=\"112\" y2=\"70\" />\n",
       "  <line x1=\"46\" y1=\"0\" x2=\"116\" y2=\"70\" />\n",
       "  <line x1=\"50\" y1=\"0\" x2=\"120\" y2=\"70\" />\n",
       "  <line x1=\"54\" y1=\"0\" x2=\"124\" y2=\"70\" />\n",
       "  <line x1=\"58\" y1=\"0\" x2=\"128\" y2=\"70\" />\n",
       "  <line x1=\"62\" y1=\"0\" x2=\"132\" y2=\"70\" />\n",
       "  <line x1=\"66\" y1=\"0\" x2=\"136\" y2=\"70\" />\n",
       "  <line x1=\"70\" y1=\"0\" x2=\"140\" y2=\"70\" />\n",
       "  <line x1=\"74\" y1=\"0\" x2=\"144\" y2=\"70\" />\n",
       "  <line x1=\"78\" y1=\"0\" x2=\"148\" y2=\"70\" />\n",
       "  <line x1=\"82\" y1=\"0\" x2=\"152\" y2=\"70\" />\n",
       "  <line x1=\"86\" y1=\"0\" x2=\"157\" y2=\"70\" style=\"stroke-width:2\" />\n",
       "\n",
       "  <!-- Colored Rectangle -->\n",
       "  <polygon points=\"10.0,0.0 86.8,0.0 157.38823529411764,70.58823529411765 80.58823529411765,70.58823529411765\" style=\"fill:#8B4903A0;stroke-width:0\"/>\n",
       "\n",
       "  <!-- Horizontal lines -->\n",
       "  <line x1=\"80\" y1=\"70\" x2=\"157\" y2=\"70\" style=\"stroke-width:2\" />\n",
       "  <line x1=\"80\" y1=\"74\" x2=\"157\" y2=\"74\" />\n",
       "  <line x1=\"80\" y1=\"78\" x2=\"157\" y2=\"78\" />\n",
       "  <line x1=\"80\" y1=\"82\" x2=\"157\" y2=\"82\" />\n",
       "  <line x1=\"80\" y1=\"86\" x2=\"157\" y2=\"86\" />\n",
       "  <line x1=\"80\" y1=\"90\" x2=\"157\" y2=\"90\" />\n",
       "  <line x1=\"80\" y1=\"94\" x2=\"157\" y2=\"94\" />\n",
       "  <line x1=\"80\" y1=\"98\" x2=\"157\" y2=\"98\" />\n",
       "  <line x1=\"80\" y1=\"102\" x2=\"157\" y2=\"102\" />\n",
       "  <line x1=\"80\" y1=\"106\" x2=\"157\" y2=\"106\" />\n",
       "  <line x1=\"80\" y1=\"110\" x2=\"157\" y2=\"110\" />\n",
       "  <line x1=\"80\" y1=\"114\" x2=\"157\" y2=\"114\" />\n",
       "  <line x1=\"80\" y1=\"118\" x2=\"157\" y2=\"118\" />\n",
       "  <line x1=\"80\" y1=\"122\" x2=\"157\" y2=\"122\" />\n",
       "  <line x1=\"80\" y1=\"126\" x2=\"157\" y2=\"126\" />\n",
       "  <line x1=\"80\" y1=\"130\" x2=\"157\" y2=\"130\" />\n",
       "  <line x1=\"80\" y1=\"134\" x2=\"157\" y2=\"134\" />\n",
       "  <line x1=\"80\" y1=\"138\" x2=\"157\" y2=\"138\" />\n",
       "  <line x1=\"80\" y1=\"142\" x2=\"157\" y2=\"142\" />\n",
       "  <line x1=\"80\" y1=\"147\" x2=\"157\" y2=\"147\" style=\"stroke-width:2\" />\n",
       "\n",
       "  <!-- Vertical lines -->\n",
       "  <line x1=\"80\" y1=\"70\" x2=\"80\" y2=\"147\" style=\"stroke-width:2\" />\n",
       "  <line x1=\"84\" y1=\"70\" x2=\"84\" y2=\"147\" />\n",
       "  <line x1=\"88\" y1=\"70\" x2=\"88\" y2=\"147\" />\n",
       "  <line x1=\"92\" y1=\"70\" x2=\"92\" y2=\"147\" />\n",
       "  <line x1=\"96\" y1=\"70\" x2=\"96\" y2=\"147\" />\n",
       "  <line x1=\"100\" y1=\"70\" x2=\"100\" y2=\"147\" />\n",
       "  <line x1=\"104\" y1=\"70\" x2=\"104\" y2=\"147\" />\n",
       "  <line x1=\"108\" y1=\"70\" x2=\"108\" y2=\"147\" />\n",
       "  <line x1=\"112\" y1=\"70\" x2=\"112\" y2=\"147\" />\n",
       "  <line x1=\"116\" y1=\"70\" x2=\"116\" y2=\"147\" />\n",
       "  <line x1=\"120\" y1=\"70\" x2=\"120\" y2=\"147\" />\n",
       "  <line x1=\"124\" y1=\"70\" x2=\"124\" y2=\"147\" />\n",
       "  <line x1=\"128\" y1=\"70\" x2=\"128\" y2=\"147\" />\n",
       "  <line x1=\"132\" y1=\"70\" x2=\"132\" y2=\"147\" />\n",
       "  <line x1=\"136\" y1=\"70\" x2=\"136\" y2=\"147\" />\n",
       "  <line x1=\"140\" y1=\"70\" x2=\"140\" y2=\"147\" />\n",
       "  <line x1=\"144\" y1=\"70\" x2=\"144\" y2=\"147\" />\n",
       "  <line x1=\"148\" y1=\"70\" x2=\"148\" y2=\"147\" />\n",
       "  <line x1=\"152\" y1=\"70\" x2=\"152\" y2=\"147\" />\n",
       "  <line x1=\"157\" y1=\"70\" x2=\"157\" y2=\"147\" style=\"stroke-width:2\" />\n",
       "\n",
       "  <!-- Colored Rectangle -->\n",
       "  <polygon points=\"80.58823529411765,70.58823529411765 157.38823529411764,70.58823529411765 157.38823529411764,147.38823529411764 80.58823529411765,147.38823529411764\" style=\"fill:#8B4903A0;stroke-width:0\"/>\n",
       "\n",
       "  <!-- Text -->\n",
       "  <text x=\"118.988235\" y=\"167.388235\" font-size=\"1.0rem\" font-weight=\"100\" text-anchor=\"middle\" >192</text>\n",
       "  <text x=\"177.388235\" y=\"108.988235\" font-size=\"1.0rem\" font-weight=\"100\" text-anchor=\"middle\" transform=\"rotate(-90,177.388235,108.988235)\">192</text>\n",
       "  <text x=\"35.294118\" y=\"132.094118\" font-size=\"1.0rem\" font-weight=\"100\" text-anchor=\"middle\" transform=\"rotate(45,35.294118,132.094118)\">300</text>\n",
       "</svg>\n",
       "        </td>\n",
       "    </tr>\n",
       "</table>"
      ],
      "text/plain": [
       "dask.array<truediv, shape=(300, 192, 192), dtype=float64, chunksize=(10, 10, 10), chunktype=numpy.ndarray>"
      ]
     },
     "execution_count": 223,
     "metadata": {},
     "output_type": "execute_result"
    }
   ],
   "source": [
    "x_tr"
   ]
  },
  {
   "cell_type": "code",
   "execution_count": null,
   "metadata": {
    "colab": {
     "base_uri": "https://localhost:8080/",
     "height": 222
    },
    "id": "CCtDroiI8ErJ",
    "outputId": "8957ff40-a5a1-410b-dc7c-e8824b16bb6f"
   },
   "outputs": [
    {
     "data": {
      "text/html": [
       "<table>\n",
       "    <tr>\n",
       "        <td>\n",
       "            <table>\n",
       "                <thead>\n",
       "                    <tr>\n",
       "                        <td> </td>\n",
       "                        <th> Array </th>\n",
       "                        <th> Chunk </th>\n",
       "                    </tr>\n",
       "                </thead>\n",
       "                <tbody>\n",
       "                    \n",
       "                    <tr>\n",
       "                        <th> Bytes </th>\n",
       "                        <td> 15.47 MiB </td>\n",
       "                        <td> 7.81 kiB </td>\n",
       "                    </tr>\n",
       "                    \n",
       "                    <tr>\n",
       "                        <th> Shape </th>\n",
       "                        <td> (55, 192, 192) </td>\n",
       "                        <td> (10, 10, 10) </td>\n",
       "                    </tr>\n",
       "                    <tr>\n",
       "                        <th> Count </th>\n",
       "                        <td> 4801 Tasks </td>\n",
       "                        <td> 2400 Chunks </td>\n",
       "                    </tr>\n",
       "                    <tr>\n",
       "                    <th> Type </th>\n",
       "                    <td> float64 </td>\n",
       "                    <td> numpy.ndarray </td>\n",
       "                    </tr>\n",
       "                </tbody>\n",
       "            </table>\n",
       "        </td>\n",
       "        <td>\n",
       "        <svg width=\"205\" height=\"195\" style=\"stroke:rgb(0,0,0);stroke-width:1\" >\n",
       "\n",
       "  <!-- Horizontal lines -->\n",
       "  <line x1=\"10\" y1=\"0\" x2=\"35\" y2=\"25\" style=\"stroke-width:2\" />\n",
       "  <line x1=\"10\" y1=\"6\" x2=\"35\" y2=\"31\" />\n",
       "  <line x1=\"10\" y1=\"12\" x2=\"35\" y2=\"38\" />\n",
       "  <line x1=\"10\" y1=\"18\" x2=\"35\" y2=\"44\" />\n",
       "  <line x1=\"10\" y1=\"25\" x2=\"35\" y2=\"50\" />\n",
       "  <line x1=\"10\" y1=\"31\" x2=\"35\" y2=\"56\" />\n",
       "  <line x1=\"10\" y1=\"37\" x2=\"35\" y2=\"63\" />\n",
       "  <line x1=\"10\" y1=\"43\" x2=\"35\" y2=\"69\" />\n",
       "  <line x1=\"10\" y1=\"50\" x2=\"35\" y2=\"75\" />\n",
       "  <line x1=\"10\" y1=\"56\" x2=\"35\" y2=\"81\" />\n",
       "  <line x1=\"10\" y1=\"62\" x2=\"35\" y2=\"88\" />\n",
       "  <line x1=\"10\" y1=\"68\" x2=\"35\" y2=\"94\" />\n",
       "  <line x1=\"10\" y1=\"75\" x2=\"35\" y2=\"100\" />\n",
       "  <line x1=\"10\" y1=\"81\" x2=\"35\" y2=\"106\" />\n",
       "  <line x1=\"10\" y1=\"87\" x2=\"35\" y2=\"113\" />\n",
       "  <line x1=\"10\" y1=\"93\" x2=\"35\" y2=\"119\" />\n",
       "  <line x1=\"10\" y1=\"100\" x2=\"35\" y2=\"125\" />\n",
       "  <line x1=\"10\" y1=\"106\" x2=\"35\" y2=\"131\" />\n",
       "  <line x1=\"10\" y1=\"112\" x2=\"35\" y2=\"138\" />\n",
       "  <line x1=\"10\" y1=\"120\" x2=\"35\" y2=\"145\" style=\"stroke-width:2\" />\n",
       "\n",
       "  <!-- Vertical lines -->\n",
       "  <line x1=\"10\" y1=\"0\" x2=\"10\" y2=\"120\" style=\"stroke-width:2\" />\n",
       "  <line x1=\"14\" y1=\"4\" x2=\"14\" y2=\"124\" />\n",
       "  <line x1=\"19\" y1=\"9\" x2=\"19\" y2=\"129\" />\n",
       "  <line x1=\"23\" y1=\"13\" x2=\"23\" y2=\"133\" />\n",
       "  <line x1=\"28\" y1=\"18\" x2=\"28\" y2=\"138\" />\n",
       "  <line x1=\"33\" y1=\"23\" x2=\"33\" y2=\"143\" />\n",
       "  <line x1=\"35\" y1=\"25\" x2=\"35\" y2=\"145\" style=\"stroke-width:2\" />\n",
       "\n",
       "  <!-- Colored Rectangle -->\n",
       "  <polygon points=\"10.0,0.0 35.52230208839878,25.52230208839878 35.52230208839878,145.5223020883988 10.0,120.0\" style=\"fill:#8B4903A0;stroke-width:0\"/>\n",
       "\n",
       "  <!-- Horizontal lines -->\n",
       "  <line x1=\"10\" y1=\"0\" x2=\"130\" y2=\"0\" style=\"stroke-width:2\" />\n",
       "  <line x1=\"14\" y1=\"4\" x2=\"134\" y2=\"4\" />\n",
       "  <line x1=\"19\" y1=\"9\" x2=\"139\" y2=\"9\" />\n",
       "  <line x1=\"23\" y1=\"13\" x2=\"143\" y2=\"13\" />\n",
       "  <line x1=\"28\" y1=\"18\" x2=\"148\" y2=\"18\" />\n",
       "  <line x1=\"33\" y1=\"23\" x2=\"153\" y2=\"23\" />\n",
       "  <line x1=\"35\" y1=\"25\" x2=\"155\" y2=\"25\" style=\"stroke-width:2\" />\n",
       "\n",
       "  <!-- Vertical lines -->\n",
       "  <line x1=\"10\" y1=\"0\" x2=\"35\" y2=\"25\" style=\"stroke-width:2\" />\n",
       "  <line x1=\"16\" y1=\"0\" x2=\"41\" y2=\"25\" />\n",
       "  <line x1=\"22\" y1=\"0\" x2=\"48\" y2=\"25\" />\n",
       "  <line x1=\"28\" y1=\"0\" x2=\"54\" y2=\"25\" />\n",
       "  <line x1=\"35\" y1=\"0\" x2=\"60\" y2=\"25\" />\n",
       "  <line x1=\"41\" y1=\"0\" x2=\"66\" y2=\"25\" />\n",
       "  <line x1=\"47\" y1=\"0\" x2=\"73\" y2=\"25\" />\n",
       "  <line x1=\"53\" y1=\"0\" x2=\"79\" y2=\"25\" />\n",
       "  <line x1=\"60\" y1=\"0\" x2=\"85\" y2=\"25\" />\n",
       "  <line x1=\"66\" y1=\"0\" x2=\"91\" y2=\"25\" />\n",
       "  <line x1=\"72\" y1=\"0\" x2=\"98\" y2=\"25\" />\n",
       "  <line x1=\"78\" y1=\"0\" x2=\"104\" y2=\"25\" />\n",
       "  <line x1=\"85\" y1=\"0\" x2=\"110\" y2=\"25\" />\n",
       "  <line x1=\"91\" y1=\"0\" x2=\"116\" y2=\"25\" />\n",
       "  <line x1=\"97\" y1=\"0\" x2=\"123\" y2=\"25\" />\n",
       "  <line x1=\"103\" y1=\"0\" x2=\"129\" y2=\"25\" />\n",
       "  <line x1=\"110\" y1=\"0\" x2=\"135\" y2=\"25\" />\n",
       "  <line x1=\"116\" y1=\"0\" x2=\"141\" y2=\"25\" />\n",
       "  <line x1=\"122\" y1=\"0\" x2=\"148\" y2=\"25\" />\n",
       "  <line x1=\"130\" y1=\"0\" x2=\"155\" y2=\"25\" style=\"stroke-width:2\" />\n",
       "\n",
       "  <!-- Colored Rectangle -->\n",
       "  <polygon points=\"10.0,0.0 130.0,0.0 155.5223020883988,25.52230208839878 35.52230208839878,25.52230208839878\" style=\"fill:#8B4903A0;stroke-width:0\"/>\n",
       "\n",
       "  <!-- Horizontal lines -->\n",
       "  <line x1=\"35\" y1=\"25\" x2=\"155\" y2=\"25\" style=\"stroke-width:2\" />\n",
       "  <line x1=\"35\" y1=\"31\" x2=\"155\" y2=\"31\" />\n",
       "  <line x1=\"35\" y1=\"38\" x2=\"155\" y2=\"38\" />\n",
       "  <line x1=\"35\" y1=\"44\" x2=\"155\" y2=\"44\" />\n",
       "  <line x1=\"35\" y1=\"50\" x2=\"155\" y2=\"50\" />\n",
       "  <line x1=\"35\" y1=\"56\" x2=\"155\" y2=\"56\" />\n",
       "  <line x1=\"35\" y1=\"63\" x2=\"155\" y2=\"63\" />\n",
       "  <line x1=\"35\" y1=\"69\" x2=\"155\" y2=\"69\" />\n",
       "  <line x1=\"35\" y1=\"75\" x2=\"155\" y2=\"75\" />\n",
       "  <line x1=\"35\" y1=\"81\" x2=\"155\" y2=\"81\" />\n",
       "  <line x1=\"35\" y1=\"88\" x2=\"155\" y2=\"88\" />\n",
       "  <line x1=\"35\" y1=\"94\" x2=\"155\" y2=\"94\" />\n",
       "  <line x1=\"35\" y1=\"100\" x2=\"155\" y2=\"100\" />\n",
       "  <line x1=\"35\" y1=\"106\" x2=\"155\" y2=\"106\" />\n",
       "  <line x1=\"35\" y1=\"113\" x2=\"155\" y2=\"113\" />\n",
       "  <line x1=\"35\" y1=\"119\" x2=\"155\" y2=\"119\" />\n",
       "  <line x1=\"35\" y1=\"125\" x2=\"155\" y2=\"125\" />\n",
       "  <line x1=\"35\" y1=\"131\" x2=\"155\" y2=\"131\" />\n",
       "  <line x1=\"35\" y1=\"138\" x2=\"155\" y2=\"138\" />\n",
       "  <line x1=\"35\" y1=\"145\" x2=\"155\" y2=\"145\" style=\"stroke-width:2\" />\n",
       "\n",
       "  <!-- Vertical lines -->\n",
       "  <line x1=\"35\" y1=\"25\" x2=\"35\" y2=\"145\" style=\"stroke-width:2\" />\n",
       "  <line x1=\"41\" y1=\"25\" x2=\"41\" y2=\"145\" />\n",
       "  <line x1=\"48\" y1=\"25\" x2=\"48\" y2=\"145\" />\n",
       "  <line x1=\"54\" y1=\"25\" x2=\"54\" y2=\"145\" />\n",
       "  <line x1=\"60\" y1=\"25\" x2=\"60\" y2=\"145\" />\n",
       "  <line x1=\"66\" y1=\"25\" x2=\"66\" y2=\"145\" />\n",
       "  <line x1=\"73\" y1=\"25\" x2=\"73\" y2=\"145\" />\n",
       "  <line x1=\"79\" y1=\"25\" x2=\"79\" y2=\"145\" />\n",
       "  <line x1=\"85\" y1=\"25\" x2=\"85\" y2=\"145\" />\n",
       "  <line x1=\"91\" y1=\"25\" x2=\"91\" y2=\"145\" />\n",
       "  <line x1=\"98\" y1=\"25\" x2=\"98\" y2=\"145\" />\n",
       "  <line x1=\"104\" y1=\"25\" x2=\"104\" y2=\"145\" />\n",
       "  <line x1=\"110\" y1=\"25\" x2=\"110\" y2=\"145\" />\n",
       "  <line x1=\"116\" y1=\"25\" x2=\"116\" y2=\"145\" />\n",
       "  <line x1=\"123\" y1=\"25\" x2=\"123\" y2=\"145\" />\n",
       "  <line x1=\"129\" y1=\"25\" x2=\"129\" y2=\"145\" />\n",
       "  <line x1=\"135\" y1=\"25\" x2=\"135\" y2=\"145\" />\n",
       "  <line x1=\"141\" y1=\"25\" x2=\"141\" y2=\"145\" />\n",
       "  <line x1=\"148\" y1=\"25\" x2=\"148\" y2=\"145\" />\n",
       "  <line x1=\"155\" y1=\"25\" x2=\"155\" y2=\"145\" style=\"stroke-width:2\" />\n",
       "\n",
       "  <!-- Colored Rectangle -->\n",
       "  <polygon points=\"35.52230208839878,25.52230208839878 155.5223020883988,25.52230208839878 155.5223020883988,145.5223020883988 35.52230208839878,145.5223020883988\" style=\"fill:#8B4903A0;stroke-width:0\"/>\n",
       "\n",
       "  <!-- Text -->\n",
       "  <text x=\"95.522302\" y=\"165.522302\" font-size=\"1.0rem\" font-weight=\"100\" text-anchor=\"middle\" >192</text>\n",
       "  <text x=\"175.522302\" y=\"85.522302\" font-size=\"1.0rem\" font-weight=\"100\" text-anchor=\"middle\" transform=\"rotate(-90,175.522302,85.522302)\">192</text>\n",
       "  <text x=\"12.761151\" y=\"152.761151\" font-size=\"1.0rem\" font-weight=\"100\" text-anchor=\"middle\" transform=\"rotate(45,12.761151,152.761151)\">55</text>\n",
       "</svg>\n",
       "        </td>\n",
       "    </tr>\n",
       "</table>"
      ],
      "text/plain": [
       "dask.array<truediv, shape=(55, 192, 192), dtype=float64, chunksize=(10, 10, 10), chunktype=numpy.ndarray>"
      ]
     },
     "execution_count": 224,
     "metadata": {},
     "output_type": "execute_result"
    }
   ],
   "source": [
    "x_va"
   ]
  },
  {
   "cell_type": "code",
   "execution_count": null,
   "metadata": {
    "colab": {
     "base_uri": "https://localhost:8080/",
     "height": 222
    },
    "id": "d7zEAokD8GmF",
    "outputId": "6eaa73c8-2872-4070-e5aa-e115648f01b3"
   },
   "outputs": [
    {
     "data": {
      "text/html": [
       "<table>\n",
       "    <tr>\n",
       "        <td>\n",
       "            <table>\n",
       "                <thead>\n",
       "                    <tr>\n",
       "                        <td> </td>\n",
       "                        <th> Array </th>\n",
       "                        <th> Chunk </th>\n",
       "                    </tr>\n",
       "                </thead>\n",
       "                <tbody>\n",
       "                    \n",
       "                    <tr>\n",
       "                        <th> Bytes </th>\n",
       "                        <td> 15.47 MiB </td>\n",
       "                        <td> 7.81 kiB </td>\n",
       "                    </tr>\n",
       "                    \n",
       "                    <tr>\n",
       "                        <th> Shape </th>\n",
       "                        <td> (55, 192, 192) </td>\n",
       "                        <td> (10, 10, 10) </td>\n",
       "                    </tr>\n",
       "                    <tr>\n",
       "                        <th> Count </th>\n",
       "                        <td> 4801 Tasks </td>\n",
       "                        <td> 2400 Chunks </td>\n",
       "                    </tr>\n",
       "                    <tr>\n",
       "                    <th> Type </th>\n",
       "                    <td> float64 </td>\n",
       "                    <td> numpy.ndarray </td>\n",
       "                    </tr>\n",
       "                </tbody>\n",
       "            </table>\n",
       "        </td>\n",
       "        <td>\n",
       "        <svg width=\"205\" height=\"195\" style=\"stroke:rgb(0,0,0);stroke-width:1\" >\n",
       "\n",
       "  <!-- Horizontal lines -->\n",
       "  <line x1=\"10\" y1=\"0\" x2=\"35\" y2=\"25\" style=\"stroke-width:2\" />\n",
       "  <line x1=\"10\" y1=\"6\" x2=\"35\" y2=\"31\" />\n",
       "  <line x1=\"10\" y1=\"12\" x2=\"35\" y2=\"38\" />\n",
       "  <line x1=\"10\" y1=\"18\" x2=\"35\" y2=\"44\" />\n",
       "  <line x1=\"10\" y1=\"25\" x2=\"35\" y2=\"50\" />\n",
       "  <line x1=\"10\" y1=\"31\" x2=\"35\" y2=\"56\" />\n",
       "  <line x1=\"10\" y1=\"37\" x2=\"35\" y2=\"63\" />\n",
       "  <line x1=\"10\" y1=\"43\" x2=\"35\" y2=\"69\" />\n",
       "  <line x1=\"10\" y1=\"50\" x2=\"35\" y2=\"75\" />\n",
       "  <line x1=\"10\" y1=\"56\" x2=\"35\" y2=\"81\" />\n",
       "  <line x1=\"10\" y1=\"62\" x2=\"35\" y2=\"88\" />\n",
       "  <line x1=\"10\" y1=\"68\" x2=\"35\" y2=\"94\" />\n",
       "  <line x1=\"10\" y1=\"75\" x2=\"35\" y2=\"100\" />\n",
       "  <line x1=\"10\" y1=\"81\" x2=\"35\" y2=\"106\" />\n",
       "  <line x1=\"10\" y1=\"87\" x2=\"35\" y2=\"113\" />\n",
       "  <line x1=\"10\" y1=\"93\" x2=\"35\" y2=\"119\" />\n",
       "  <line x1=\"10\" y1=\"100\" x2=\"35\" y2=\"125\" />\n",
       "  <line x1=\"10\" y1=\"106\" x2=\"35\" y2=\"131\" />\n",
       "  <line x1=\"10\" y1=\"112\" x2=\"35\" y2=\"138\" />\n",
       "  <line x1=\"10\" y1=\"120\" x2=\"35\" y2=\"145\" style=\"stroke-width:2\" />\n",
       "\n",
       "  <!-- Vertical lines -->\n",
       "  <line x1=\"10\" y1=\"0\" x2=\"10\" y2=\"120\" style=\"stroke-width:2\" />\n",
       "  <line x1=\"14\" y1=\"4\" x2=\"14\" y2=\"124\" />\n",
       "  <line x1=\"19\" y1=\"9\" x2=\"19\" y2=\"129\" />\n",
       "  <line x1=\"23\" y1=\"13\" x2=\"23\" y2=\"133\" />\n",
       "  <line x1=\"28\" y1=\"18\" x2=\"28\" y2=\"138\" />\n",
       "  <line x1=\"33\" y1=\"23\" x2=\"33\" y2=\"143\" />\n",
       "  <line x1=\"35\" y1=\"25\" x2=\"35\" y2=\"145\" style=\"stroke-width:2\" />\n",
       "\n",
       "  <!-- Colored Rectangle -->\n",
       "  <polygon points=\"10.0,0.0 35.52230208839878,25.52230208839878 35.52230208839878,145.5223020883988 10.0,120.0\" style=\"fill:#8B4903A0;stroke-width:0\"/>\n",
       "\n",
       "  <!-- Horizontal lines -->\n",
       "  <line x1=\"10\" y1=\"0\" x2=\"130\" y2=\"0\" style=\"stroke-width:2\" />\n",
       "  <line x1=\"14\" y1=\"4\" x2=\"134\" y2=\"4\" />\n",
       "  <line x1=\"19\" y1=\"9\" x2=\"139\" y2=\"9\" />\n",
       "  <line x1=\"23\" y1=\"13\" x2=\"143\" y2=\"13\" />\n",
       "  <line x1=\"28\" y1=\"18\" x2=\"148\" y2=\"18\" />\n",
       "  <line x1=\"33\" y1=\"23\" x2=\"153\" y2=\"23\" />\n",
       "  <line x1=\"35\" y1=\"25\" x2=\"155\" y2=\"25\" style=\"stroke-width:2\" />\n",
       "\n",
       "  <!-- Vertical lines -->\n",
       "  <line x1=\"10\" y1=\"0\" x2=\"35\" y2=\"25\" style=\"stroke-width:2\" />\n",
       "  <line x1=\"16\" y1=\"0\" x2=\"41\" y2=\"25\" />\n",
       "  <line x1=\"22\" y1=\"0\" x2=\"48\" y2=\"25\" />\n",
       "  <line x1=\"28\" y1=\"0\" x2=\"54\" y2=\"25\" />\n",
       "  <line x1=\"35\" y1=\"0\" x2=\"60\" y2=\"25\" />\n",
       "  <line x1=\"41\" y1=\"0\" x2=\"66\" y2=\"25\" />\n",
       "  <line x1=\"47\" y1=\"0\" x2=\"73\" y2=\"25\" />\n",
       "  <line x1=\"53\" y1=\"0\" x2=\"79\" y2=\"25\" />\n",
       "  <line x1=\"60\" y1=\"0\" x2=\"85\" y2=\"25\" />\n",
       "  <line x1=\"66\" y1=\"0\" x2=\"91\" y2=\"25\" />\n",
       "  <line x1=\"72\" y1=\"0\" x2=\"98\" y2=\"25\" />\n",
       "  <line x1=\"78\" y1=\"0\" x2=\"104\" y2=\"25\" />\n",
       "  <line x1=\"85\" y1=\"0\" x2=\"110\" y2=\"25\" />\n",
       "  <line x1=\"91\" y1=\"0\" x2=\"116\" y2=\"25\" />\n",
       "  <line x1=\"97\" y1=\"0\" x2=\"123\" y2=\"25\" />\n",
       "  <line x1=\"103\" y1=\"0\" x2=\"129\" y2=\"25\" />\n",
       "  <line x1=\"110\" y1=\"0\" x2=\"135\" y2=\"25\" />\n",
       "  <line x1=\"116\" y1=\"0\" x2=\"141\" y2=\"25\" />\n",
       "  <line x1=\"122\" y1=\"0\" x2=\"148\" y2=\"25\" />\n",
       "  <line x1=\"130\" y1=\"0\" x2=\"155\" y2=\"25\" style=\"stroke-width:2\" />\n",
       "\n",
       "  <!-- Colored Rectangle -->\n",
       "  <polygon points=\"10.0,0.0 130.0,0.0 155.5223020883988,25.52230208839878 35.52230208839878,25.52230208839878\" style=\"fill:#8B4903A0;stroke-width:0\"/>\n",
       "\n",
       "  <!-- Horizontal lines -->\n",
       "  <line x1=\"35\" y1=\"25\" x2=\"155\" y2=\"25\" style=\"stroke-width:2\" />\n",
       "  <line x1=\"35\" y1=\"31\" x2=\"155\" y2=\"31\" />\n",
       "  <line x1=\"35\" y1=\"38\" x2=\"155\" y2=\"38\" />\n",
       "  <line x1=\"35\" y1=\"44\" x2=\"155\" y2=\"44\" />\n",
       "  <line x1=\"35\" y1=\"50\" x2=\"155\" y2=\"50\" />\n",
       "  <line x1=\"35\" y1=\"56\" x2=\"155\" y2=\"56\" />\n",
       "  <line x1=\"35\" y1=\"63\" x2=\"155\" y2=\"63\" />\n",
       "  <line x1=\"35\" y1=\"69\" x2=\"155\" y2=\"69\" />\n",
       "  <line x1=\"35\" y1=\"75\" x2=\"155\" y2=\"75\" />\n",
       "  <line x1=\"35\" y1=\"81\" x2=\"155\" y2=\"81\" />\n",
       "  <line x1=\"35\" y1=\"88\" x2=\"155\" y2=\"88\" />\n",
       "  <line x1=\"35\" y1=\"94\" x2=\"155\" y2=\"94\" />\n",
       "  <line x1=\"35\" y1=\"100\" x2=\"155\" y2=\"100\" />\n",
       "  <line x1=\"35\" y1=\"106\" x2=\"155\" y2=\"106\" />\n",
       "  <line x1=\"35\" y1=\"113\" x2=\"155\" y2=\"113\" />\n",
       "  <line x1=\"35\" y1=\"119\" x2=\"155\" y2=\"119\" />\n",
       "  <line x1=\"35\" y1=\"125\" x2=\"155\" y2=\"125\" />\n",
       "  <line x1=\"35\" y1=\"131\" x2=\"155\" y2=\"131\" />\n",
       "  <line x1=\"35\" y1=\"138\" x2=\"155\" y2=\"138\" />\n",
       "  <line x1=\"35\" y1=\"145\" x2=\"155\" y2=\"145\" style=\"stroke-width:2\" />\n",
       "\n",
       "  <!-- Vertical lines -->\n",
       "  <line x1=\"35\" y1=\"25\" x2=\"35\" y2=\"145\" style=\"stroke-width:2\" />\n",
       "  <line x1=\"41\" y1=\"25\" x2=\"41\" y2=\"145\" />\n",
       "  <line x1=\"48\" y1=\"25\" x2=\"48\" y2=\"145\" />\n",
       "  <line x1=\"54\" y1=\"25\" x2=\"54\" y2=\"145\" />\n",
       "  <line x1=\"60\" y1=\"25\" x2=\"60\" y2=\"145\" />\n",
       "  <line x1=\"66\" y1=\"25\" x2=\"66\" y2=\"145\" />\n",
       "  <line x1=\"73\" y1=\"25\" x2=\"73\" y2=\"145\" />\n",
       "  <line x1=\"79\" y1=\"25\" x2=\"79\" y2=\"145\" />\n",
       "  <line x1=\"85\" y1=\"25\" x2=\"85\" y2=\"145\" />\n",
       "  <line x1=\"91\" y1=\"25\" x2=\"91\" y2=\"145\" />\n",
       "  <line x1=\"98\" y1=\"25\" x2=\"98\" y2=\"145\" />\n",
       "  <line x1=\"104\" y1=\"25\" x2=\"104\" y2=\"145\" />\n",
       "  <line x1=\"110\" y1=\"25\" x2=\"110\" y2=\"145\" />\n",
       "  <line x1=\"116\" y1=\"25\" x2=\"116\" y2=\"145\" />\n",
       "  <line x1=\"123\" y1=\"25\" x2=\"123\" y2=\"145\" />\n",
       "  <line x1=\"129\" y1=\"25\" x2=\"129\" y2=\"145\" />\n",
       "  <line x1=\"135\" y1=\"25\" x2=\"135\" y2=\"145\" />\n",
       "  <line x1=\"141\" y1=\"25\" x2=\"141\" y2=\"145\" />\n",
       "  <line x1=\"148\" y1=\"25\" x2=\"148\" y2=\"145\" />\n",
       "  <line x1=\"155\" y1=\"25\" x2=\"155\" y2=\"145\" style=\"stroke-width:2\" />\n",
       "\n",
       "  <!-- Colored Rectangle -->\n",
       "  <polygon points=\"35.52230208839878,25.52230208839878 155.5223020883988,25.52230208839878 155.5223020883988,145.5223020883988 35.52230208839878,145.5223020883988\" style=\"fill:#8B4903A0;stroke-width:0\"/>\n",
       "\n",
       "  <!-- Text -->\n",
       "  <text x=\"95.522302\" y=\"165.522302\" font-size=\"1.0rem\" font-weight=\"100\" text-anchor=\"middle\" >192</text>\n",
       "  <text x=\"175.522302\" y=\"85.522302\" font-size=\"1.0rem\" font-weight=\"100\" text-anchor=\"middle\" transform=\"rotate(-90,175.522302,85.522302)\">192</text>\n",
       "  <text x=\"12.761151\" y=\"152.761151\" font-size=\"1.0rem\" font-weight=\"100\" text-anchor=\"middle\" transform=\"rotate(45,12.761151,152.761151)\">55</text>\n",
       "</svg>\n",
       "        </td>\n",
       "    </tr>\n",
       "</table>"
      ],
      "text/plain": [
       "dask.array<truediv, shape=(55, 192, 192), dtype=float64, chunksize=(10, 10, 10), chunktype=numpy.ndarray>"
      ]
     },
     "execution_count": 225,
     "metadata": {},
     "output_type": "execute_result"
    }
   ],
   "source": [
    "x_te"
   ]
  },
  {
   "cell_type": "markdown",
   "metadata": {
    "id": "Uww7PqZ3QMYz"
   },
   "source": [
    "#Model"
   ]
  },
  {
   "cell_type": "markdown",
   "metadata": {
    "id": "Dq7Cm0fXQPG2"
   },
   "source": [
    "Now that we have the data prepared we create the model which will input samples will have an input dimension of (192, 192) . The output dimension will be three classes."
   ]
  },
  {
   "cell_type": "code",
   "execution_count": null,
   "metadata": {
    "colab": {
     "base_uri": "https://localhost:8080/"
    },
    "id": "DZyZrAkQshYX",
    "outputId": "3df8816a-603b-4f6a-febb-5ac17bcdda55"
   },
   "outputs": [
    {
     "name": "stdout",
     "output_type": "stream",
     "text": [
      "Model: \"model\"\n",
      "_________________________________________________________________\n",
      " Layer (type)                Output Shape              Param #   \n",
      "=================================================================\n",
      " input_1 (InputLayer)        [(None, 192, 192, 1)]     0         \n",
      "                                                                 \n",
      " conv2d (Conv2D)             (None, 192, 192, 16)      160       \n",
      "                                                                 \n",
      " max_pooling2d (MaxPooling2D  (None, 96, 96, 16)       0         \n",
      " )                                                               \n",
      "                                                                 \n",
      " conv2d_1 (Conv2D)           (None, 96, 96, 32)        4640      \n",
      "                                                                 \n",
      " max_pooling2d_1 (MaxPooling  (None, 48, 48, 32)       0         \n",
      " 2D)                                                             \n",
      "                                                                 \n",
      " conv2d_2 (Conv2D)           (None, 48, 48, 64)        18496     \n",
      "                                                                 \n",
      " max_pooling2d_2 (MaxPooling  (None, 24, 24, 64)       0         \n",
      " 2D)                                                             \n",
      "                                                                 \n",
      " conv2d_3 (Conv2D)           (None, 24, 24, 128)       73856     \n",
      "                                                                 \n",
      " max_pooling2d_3 (MaxPooling  (None, 12, 12, 128)      0         \n",
      " 2D)                                                             \n",
      "                                                                 \n",
      " conv2d_4 (Conv2D)           (None, 12, 12, 256)       295168    \n",
      "                                                                 \n",
      " max_pooling2d_4 (MaxPooling  (None, 6, 6, 256)        0         \n",
      " 2D)                                                             \n",
      "                                                                 \n",
      " flatten (Flatten)           (None, 9216)              0         \n",
      "                                                                 \n",
      " dense (Dense)               (None, 512)               4719104   \n",
      "                                                                 \n",
      " dropout (Dropout)           (None, 512)               0         \n",
      "                                                                 \n",
      " dense_1 (Dense)             (None, 3)                 1539      \n",
      "                                                                 \n",
      "=================================================================\n",
      "Total params: 5,112,963\n",
      "Trainable params: 5,112,963\n",
      "Non-trainable params: 0\n",
      "_________________________________________________________________\n"
     ]
    }
   ],
   "source": [
    "in_dim = (192,192,1)\n",
    "out_dim = 3\n",
    "i = Input(shape=in_dim)\n",
    "m = Conv2D(16, (3, 3), activation='relu', padding='same')(i)\n",
    "m = MaxPooling2D()(m)\n",
    "m = Conv2D(32, (3, 3), activation='relu', padding='same')(m)\n",
    "m = MaxPooling2D()(m)\n",
    "m = Conv2D(64, (3, 3), activation='relu', padding='same')(m)\n",
    "m = MaxPooling2D()(m)\n",
    "m = Conv2D(128, (3, 3), activation='relu', padding='same')(m)\n",
    "m = MaxPooling2D()(m)\n",
    "m = Conv2D(256, (3, 3), activation='relu', padding='same')(m)\n",
    "m = MaxPooling2D()(m)\n",
    "m = Flatten()(m)\n",
    "m = Dense(512, activation='relu')(m)\n",
    "m = Dropout(0.5)(m)\n",
    "o = Dense(out_dim, activation='softmax')(m)\n",
    "\n",
    "model = Model(inputs=i, outputs=o)\n",
    "model.summary()"
   ]
  },
  {
   "cell_type": "markdown",
   "metadata": {
    "id": "WWDOJzkP6jzJ"
   },
   "source": [
    "#Model Fitting"
   ]
  },
  {
   "cell_type": "markdown",
   "metadata": {
    "id": "dZnFo5DkNqtF"
   },
   "source": [
    "We fit the model on the training samples while doing validation and save the check point to the model with the best accuracy on validation set"
   ]
  },
  {
   "cell_type": "code",
   "execution_count": null,
   "metadata": {
    "colab": {
     "base_uri": "https://localhost:8080/"
    },
    "id": "pW3peXhSzvql",
    "outputId": "454fd223-5476-45e9-ee68-4b13a4130398"
   },
   "outputs": [
    {
     "name": "stdout",
     "output_type": "stream",
     "text": [
      "WARNING:tensorflow:Keras is training/fitting/evaluating on array-like data. Keras may not be optimized for this format, so if your input data format is supported by TensorFlow I/O (https://github.com/tensorflow/io) we recommend using that to load a Dataset instead.\n",
      "Epoch 1/10\n"
     ]
    },
    {
     "name": "stderr",
     "output_type": "stream",
     "text": [
      "2021-12-07 20:00:45.457446: W tensorflow/core/framework/cpu_allocator_impl.cc:82] Allocation of 75497472 exceeds 10% of free system memory.\n",
      "2021-12-07 20:00:50.749003: W tensorflow/core/framework/cpu_allocator_impl.cc:82] Allocation of 75497472 exceeds 10% of free system memory.\n"
     ]
    },
    {
     "name": "stdout",
     "output_type": "stream",
     "text": [
      "\r",
      " 1/10 [==>...........................] - ETA: 20:16 - loss: 1.1039 - accuracy: 0.3125"
     ]
    },
    {
     "name": "stderr",
     "output_type": "stream",
     "text": [
      "2021-12-07 20:00:51.035535: W tensorflow/core/framework/cpu_allocator_impl.cc:82] Allocation of 75497472 exceeds 10% of free system memory.\n",
      "2021-12-07 20:00:53.120705: W tensorflow/core/framework/cpu_allocator_impl.cc:82] Allocation of 75497472 exceeds 10% of free system memory.\n"
     ]
    },
    {
     "name": "stdout",
     "output_type": "stream",
     "text": [
      "\b\b\b\b\b\b\b\b\b\b\b\b\b\b\b\b\b\b\b\b\b\b\b\b\b\b\b\b\b\b\b\b\b\b\b\b\b\b\b\b\b\b\b\b\b\b\b\b\b\b\b\b\b\b\b\b\b\b\b\b\b\b\b\b\b\b\b\b\b\b\b\b\b\b\b\b\b\b\b\b\b\b\b\b\b\r",
      " 2/10 [=====>........................] - ETA: 18s - loss: 1.0969 - accuracy: 0.3125  "
     ]
    },
    {
     "name": "stderr",
     "output_type": "stream",
     "text": [
      "2021-12-07 20:00:53.501907: W tensorflow/core/framework/cpu_allocator_impl.cc:82] Allocation of 75497472 exceeds 10% of free system memory.\n"
     ]
    },
    {
     "name": "stdout",
     "output_type": "stream",
     "text": [
      "10/10 [==============================] - ETA: 0s - loss: 1.0387 - accuracy: 0.3900WARNING:tensorflow:Keras is training/fitting/evaluating on array-like data. Keras may not be optimized for this format, so if your input data format is supported by TensorFlow I/O (https://github.com/tensorflow/io) we recommend using that to load a Dataset instead.\n",
      "\n",
      "Epoch 00001: val_loss improved from inf to 0.97537, saving model to saved_models/audio_classification.hdf5\n",
      "10/10 [==============================] - 235s 11s/step - loss: 1.0387 - accuracy: 0.3900 - val_loss: 0.9754 - val_accuracy: 0.3273\n",
      "Epoch 2/10\n",
      "10/10 [==============================] - ETA: 0s - loss: 0.9038 - accuracy: 0.5900 \n",
      "Epoch 00002: val_loss improved from 0.97537 to 0.78156, saving model to saved_models/audio_classification.hdf5\n",
      "10/10 [==============================] - 122s 13s/step - loss: 0.9038 - accuracy: 0.5900 - val_loss: 0.7816 - val_accuracy: 0.7818\n",
      "Epoch 3/10\n",
      "10/10 [==============================] - ETA: 0s - loss: 0.7587 - accuracy: 0.7000 \n",
      "Epoch 00003: val_loss improved from 0.78156 to 0.57896, saving model to saved_models/audio_classification.hdf5\n",
      "10/10 [==============================] - 126s 14s/step - loss: 0.7587 - accuracy: 0.7000 - val_loss: 0.5790 - val_accuracy: 0.7636\n",
      "Epoch 4/10\n",
      "10/10 [==============================] - ETA: 0s - loss: 0.6243 - accuracy: 0.7167 \n",
      "Epoch 00004: val_loss improved from 0.57896 to 0.48000, saving model to saved_models/audio_classification.hdf5\n",
      "10/10 [==============================] - 119s 13s/step - loss: 0.6243 - accuracy: 0.7167 - val_loss: 0.4800 - val_accuracy: 0.7455\n",
      "Epoch 5/10\n",
      "10/10 [==============================] - ETA: 0s - loss: 0.5517 - accuracy: 0.7500 \n",
      "Epoch 00005: val_loss improved from 0.48000 to 0.41604, saving model to saved_models/audio_classification.hdf5\n",
      "10/10 [==============================] - 120s 13s/step - loss: 0.5517 - accuracy: 0.7500 - val_loss: 0.4160 - val_accuracy: 0.8000\n",
      "Epoch 6/10\n",
      "10/10 [==============================] - ETA: 0s - loss: 0.5112 - accuracy: 0.7900 \n",
      "Epoch 00006: val_loss improved from 0.41604 to 0.37459, saving model to saved_models/audio_classification.hdf5\n",
      "10/10 [==============================] - 126s 13s/step - loss: 0.5112 - accuracy: 0.7900 - val_loss: 0.3746 - val_accuracy: 0.8000\n",
      "Epoch 7/10\n",
      "10/10 [==============================] - ETA: 0s - loss: 0.4511 - accuracy: 0.8067 \n",
      "Epoch 00007: val_loss improved from 0.37459 to 0.35343, saving model to saved_models/audio_classification.hdf5\n",
      "10/10 [==============================] - 124s 14s/step - loss: 0.4511 - accuracy: 0.8067 - val_loss: 0.3534 - val_accuracy: 0.8364\n",
      "Epoch 8/10\n",
      "10/10 [==============================] - ETA: 0s - loss: 0.4323 - accuracy: 0.8333 \n",
      "Epoch 00008: val_loss improved from 0.35343 to 0.31016, saving model to saved_models/audio_classification.hdf5\n",
      "10/10 [==============================] - 120s 13s/step - loss: 0.4323 - accuracy: 0.8333 - val_loss: 0.3102 - val_accuracy: 0.8545\n",
      "Epoch 9/10\n",
      "10/10 [==============================] - ETA: 0s - loss: 0.3509 - accuracy: 0.8800 \n",
      "Epoch 00009: val_loss improved from 0.31016 to 0.28704, saving model to saved_models/audio_classification.hdf5\n",
      "10/10 [==============================] - 125s 14s/step - loss: 0.3509 - accuracy: 0.8800 - val_loss: 0.2870 - val_accuracy: 0.8364\n",
      "Epoch 10/10\n",
      "10/10 [==============================] - ETA: 0s - loss: 0.3152 - accuracy: 0.8900\n",
      "Epoch 00010: val_loss improved from 0.28704 to 0.23498, saving model to saved_models/audio_classification.hdf5\n",
      "10/10 [==============================] - 82s 9s/step - loss: 0.3152 - accuracy: 0.8900 - val_loss: 0.2350 - val_accuracy: 0.9091\n",
      "Training completed in time:  0:21:43.603027\n"
     ]
    }
   ],
   "source": [
    "num_epochs = 10\n",
    "checkpointer = ModelCheckpoint(filepath='saved_models/audio_classification.hdf5', \n",
    "                               verbose=1, save_best_only=True)\n",
    "start = datetime.now()\n",
    "model.compile(loss='categorical_crossentropy', optimizer=adam_v2.Adam(learning_rate=1e-4), metrics=['accuracy'])\n",
    "history=model.fit(x_tr, y_tr, epochs=num_epochs, verbose=1, batch_size = 32, validation_data=(x_va, y_va) ,callbacks=[checkpointer])\n",
    "duration = datetime.now() - start\n",
    "print(\"Training completed in time: \", duration)"
   ]
  },
  {
   "cell_type": "markdown",
   "metadata": {
    "id": "HVDVU-ty5tiq"
   },
   "source": [
    "#Testing Accuracy"
   ]
  },
  {
   "cell_type": "markdown",
   "metadata": {
    "id": "6fvogZNshb66"
   },
   "source": [
    "We are going to evaluate the model on unseen testing data. Here we can see we have a test accuracy of 93.33%. Which we can improve with more training data."
   ]
  },
  {
   "cell_type": "code",
   "execution_count": null,
   "metadata": {
    "colab": {
     "base_uri": "https://localhost:8080/"
    },
    "id": "Zc_XEd5nl3FD",
    "outputId": "60cc4000-fa97-4c9d-fc3f-467dbddb7100"
   },
   "outputs": [
    {
     "name": "stdout",
     "output_type": "stream",
     "text": [
      "WARNING:tensorflow:Keras is training/fitting/evaluating on array-like data. Keras may not be optimized for this format, so if your input data format is supported by TensorFlow I/O (https://github.com/tensorflow/io) we recommend using that to load a Dataset instead.\n",
      "2/2 [==============================] - 16s 415ms/step - loss: 0.1829 - accuracy: 0.9273\n"
     ]
    },
    {
     "data": {
      "text/plain": [
       "[0.1828901767730713, 0.9272727370262146]"
      ]
     },
     "execution_count": 253,
     "metadata": {},
     "output_type": "execute_result"
    }
   ],
   "source": [
    "model.evaluate(x_te, y_te)"
   ]
  },
  {
   "cell_type": "markdown",
   "metadata": {
    "id": "oRh0foJqsveI"
   },
   "source": [
    "Prediction Of Audio file"
   ]
  },
  {
   "cell_type": "markdown",
   "metadata": {
    "id": "Ww2y3K7yxJl4"
   },
   "source": [
    "Stream Audio file displaying on a graph"
   ]
  },
  {
   "cell_type": "markdown",
   "metadata": {
    "id": "pP3HZjeCmXxY"
   },
   "source": [
    "Chunking the audio test file into smaller segments"
   ]
  },
  {
   "cell_type": "code",
   "execution_count": null,
   "metadata": {
    "colab": {
     "base_uri": "https://localhost:8080/"
    },
    "id": "gt21_OHpxIGV",
    "outputId": "3252b4c7-d95b-4b49-b079-c69997d6c0d8"
   },
   "outputs": [
    {
     "name": "stdout",
     "output_type": "stream",
     "text": [
      "exporting test/audio/chunk0.wav\n",
      "exporting test/audio/chunk1.wav\n",
      "exporting test/audio/chunk2.wav\n",
      "exporting test/audio/chunk3.wav\n",
      "exporting test/audio/chunk4.wav\n",
      "exporting test/audio/chunk5.wav\n",
      "exporting test/audio/chunk6.wav\n",
      "exporting test/audio/chunk7.wav\n",
      "exporting test/audio/chunk8.wav\n",
      "exporting test/audio/chunk9.wav\n",
      "exporting test/audio/chunk10.wav\n",
      "exporting test/audio/chunk11.wav\n"
     ]
    }
   ],
   "source": [
    "from pydub import AudioSegment\n",
    "from pydub.utils import make_chunks\n",
    "import numpy as np\n",
    "audio_test = \"Audio_labelled/3-2-1-2-3-1-3.wav\"\n",
    "myaudio = AudioSegment.from_file(audio_test , \"wav\") \n",
    "chunk_length_ms = 10000 # pydub calculates in millisec\n",
    "chunks = make_chunks(myaudio, chunk_length_ms) #Make chunks of 10 seconds\n",
    "\n",
    "\n",
    "#Export all of the individual chunks as wav files\n",
    "\n",
    "for i, chunk in enumerate(chunks):\n",
    "    chunk_name = \"test/audio/chunk{0}.wav\".format(i)\n",
    "    print(\"exporting\", chunk_name)\n",
    "    chunk.export(chunk_name, format=\"wav\")\n",
    "\n",
    "    \n"
   ]
  },
  {
   "cell_type": "markdown",
   "metadata": {
    "id": "W47c1JD1mSUN"
   },
   "source": [
    "Classes for truth table"
   ]
  },
  {
   "cell_type": "code",
   "execution_count": null,
   "metadata": {
    "id": "AEKtYNYvV7ik"
   },
   "outputs": [],
   "source": [
    "#Gather all audio chunks for prediction\n",
    "\n",
    "\n",
    "files_jpg = os.listdir(\"test/audio/\")\n",
    "files_jpg.sort(reverse=False)"
   ]
  },
  {
   "cell_type": "markdown",
   "metadata": {
    "id": "IeCc9pPkCyWf"
   },
   "source": [
    "Load A trained saved model incase you dont have time to train one"
   ]
  },
  {
   "cell_type": "code",
   "execution_count": null,
   "metadata": {
    "id": "MbXsmwy3Cxsf"
   },
   "outputs": [],
   "source": [
    "from keras.models import load_model\n",
    "model = load_model('saved_models/audio_classification.hdf5')"
   ]
  },
  {
   "cell_type": "markdown",
   "metadata": {
    "id": "gGRVK9k4vikl"
   },
   "source": [
    "Analyse audio test files for Multiple voice , Single voice , No voice and Silence save the features in a dataframe to easily plot on bar chart"
   ]
  },
  {
   "cell_type": "code",
   "execution_count": null,
   "metadata": {
    "colab": {
     "base_uri": "https://localhost:8080/"
    },
    "id": "YrHyXZ96_8cA",
    "outputId": "c7b68fdc-c76a-4f95-e4c7-777eceb0519c"
   },
   "outputs": [
    {
     "name": "stdout",
     "output_type": "stream",
     "text": [
      "WARNING:tensorflow:Keras is training/fitting/evaluating on array-like data. Keras may not be optimized for this format, so if your input data format is supported by TensorFlow I/O (https://github.com/tensorflow/io) we recommend using that to load a Dataset instead.\n",
      "WARNING:tensorflow:Keras is training/fitting/evaluating on array-like data. Keras may not be optimized for this format, so if your input data format is supported by TensorFlow I/O (https://github.com/tensorflow/io) we recommend using that to load a Dataset instead.\n",
      "WARNING:tensorflow:Keras is training/fitting/evaluating on array-like data. Keras may not be optimized for this format, so if your input data format is supported by TensorFlow I/O (https://github.com/tensorflow/io) we recommend using that to load a Dataset instead.\n",
      "WARNING:tensorflow:Keras is training/fitting/evaluating on array-like data. Keras may not be optimized for this format, so if your input data format is supported by TensorFlow I/O (https://github.com/tensorflow/io) we recommend using that to load a Dataset instead.\n",
      "WARNING:tensorflow:Keras is training/fitting/evaluating on array-like data. Keras may not be optimized for this format, so if your input data format is supported by TensorFlow I/O (https://github.com/tensorflow/io) we recommend using that to load a Dataset instead.\n",
      "WARNING:tensorflow:Keras is training/fitting/evaluating on array-like data. Keras may not be optimized for this format, so if your input data format is supported by TensorFlow I/O (https://github.com/tensorflow/io) we recommend using that to load a Dataset instead.\n",
      "WARNING:tensorflow:Keras is training/fitting/evaluating on array-like data. Keras may not be optimized for this format, so if your input data format is supported by TensorFlow I/O (https://github.com/tensorflow/io) we recommend using that to load a Dataset instead.\n",
      "WARNING:tensorflow:Keras is training/fitting/evaluating on array-like data. Keras may not be optimized for this format, so if your input data format is supported by TensorFlow I/O (https://github.com/tensorflow/io) we recommend using that to load a Dataset instead.\n",
      "WARNING:tensorflow:Keras is training/fitting/evaluating on array-like data. Keras may not be optimized for this format, so if your input data format is supported by TensorFlow I/O (https://github.com/tensorflow/io) we recommend using that to load a Dataset instead.\n",
      "WARNING:tensorflow:Keras is training/fitting/evaluating on array-like data. Keras may not be optimized for this format, so if your input data format is supported by TensorFlow I/O (https://github.com/tensorflow/io) we recommend using that to load a Dataset instead.\n",
      "WARNING:tensorflow:Keras is training/fitting/evaluating on array-like data. Keras may not be optimized for this format, so if your input data format is supported by TensorFlow I/O (https://github.com/tensorflow/io) we recommend using that to load a Dataset instead.\n",
      "WARNING:tensorflow:Keras is training/fitting/evaluating on array-like data. Keras may not be optimized for this format, so if your input data format is supported by TensorFlow I/O (https://github.com/tensorflow/io) we recommend using that to load a Dataset instead.\n"
     ]
    }
   ],
   "source": [
    "df_bars = pd.DataFrame(columns=['index', 'time', 'class', 'color'])\n",
    "index = 0\n",
    "'''\n",
    "set classes for the final data frame to plot values on bar chart\n",
    "@param df_bars\n",
    "@param index\n",
    "@param time slice\n",
    "@param classid\n",
    "@param color\n",
    "'''\n",
    "def set_df_values(df_bars, index, time, classid, color):\n",
    "    df_bars.loc[index, 'index'] = index\n",
    "    df_bars.loc[index, 'time'] = time\n",
    "    df_bars.loc[index, 'class'] = classid\n",
    "    df_bars.loc[index, 'color'] = color\n",
    "\n",
    "\n",
    "for file in files_jpg:\n",
    "\n",
    "    path = \"test/audio/\" + file\n",
    "    test_image = wav_to_img(path)\n",
    "    test_image /= 255\n",
    "    test_image = da.from_array(test_image, chunks=1)\n",
    "\n",
    "    test_image = test_image.reshape((1,test_image.shape[0], test_image.shape[1]))\n",
    "    #predict this segm\n",
    "    pred = model.predict(test_image)\n",
    "    result = np.where(pred[0] == np.amax(pred[0]))\n",
    "    result = result[0][0]\n",
    "    #predict single voice\n",
    "    if result == 2:\n",
    "        set_df_values(df_bars, index, 10, \"SV\", \"blue\")\n",
    "       \n",
    "    #predict multiple voice    \n",
    "    elif result == 1:\n",
    "        set_df_values(df_bars, index, 10, \"MV\", \"orange\")\n",
    "    #predict no voice\n",
    "    elif result == 0:\n",
    "        set_df_values(df_bars, index, 10, \"NV\", \"green\")\n",
    "    index+=10\n",
    "    "
   ]
  },
  {
   "cell_type": "code",
   "execution_count": null,
   "metadata": {
    "colab": {
     "base_uri": "https://localhost:8080/"
    },
    "id": "wyLwjag4AXRJ",
    "outputId": "56c03535-c4bf-4687-d551-92a7ae0dd224"
   },
   "outputs": [
    {
     "name": "stdout",
     "output_type": "stream",
     "text": [
      "WARNING:tensorflow:Keras is training/fitting/evaluating on array-like data. Keras may not be optimized for this format, so if your input data format is supported by TensorFlow I/O (https://github.com/tensorflow/io) we recommend using that to load a Dataset instead.\n"
     ]
    },
    {
     "data": {
      "text/plain": [
       "array([[1.4504309e-07, 9.9999988e-01, 5.8927421e-19]], dtype=float32)"
      ]
     },
     "execution_count": 238,
     "metadata": {},
     "output_type": "execute_result"
    }
   ],
   "source": [
    "path = \"test/audio/\" + \"chunk2.wav\"\n",
    "test_image = wav_to_img(path)\n",
    "test_image /= 255\n",
    "test_image = da.from_array(test_image, chunks=1)\n",
    "\n",
    "test_image = test_image.reshape((1,test_image.shape[0], test_image.shape[1]))\n",
    "pred = model.predict(test_image)\n",
    "pred\n",
    "result = np.where(pred[0] == np.amax(pred[0]))\n",
    "result[0][0]"
   ]
  },
  {
   "cell_type": "code",
   "execution_count": null,
   "metadata": {
    "id": "gxOUa1xiC5Kj"
   },
   "outputs": [],
   "source": []
  },
  {
   "cell_type": "markdown",
   "metadata": {
    "id": "AVispq0Cm0tE"
   },
   "source": [
    "Display the output on graph"
   ]
  },
  {
   "cell_type": "code",
   "execution_count": null,
   "metadata": {
    "colab": {
     "base_uri": "https://localhost:8080/",
     "height": 295
    },
    "id": "0SvDhRWGclF0",
    "outputId": "8229b2b3-c2f7-4bce-a8da-6d1d8014fd07"
   },
   "outputs": [
    {
     "data": {
      "image/png": "[encoded data removed]",
      "text/plain": [
       "<Figure size 432x288 with 1 Axes>"
      ]
     },
     "metadata": {
      "needs_background": "light"
     },
     "output_type": "display_data"
    }
   ],
   "source": [
    "xx=df_bars.iloc[:, 0].values.tolist()\n",
    "yy =np.array(df_bars.iloc[:, 1].values.tolist())\n",
    "plt.bar(xx,yy,width=10, color=df_bars.iloc[:, 3].values.tolist())\n",
    "plt.xlabel('Time (seconds)')\n",
    "plt.ylabel(\"intensity\")\n",
    "plt.title('Class predictions for file ' + audio_test.split(\"/\")[-1])\n",
    "\n",
    "colors = {'Single Voice':'blue', 'Multiple Voice':'orange', 'No voice':'green'}         \n",
    "labels = list(colors.keys())\n",
    "handles = [plt.Rectangle((0,0),1,1, color=colors[label]) for label in labels]\n",
    "plt.legend(handles, labels)\n",
    "\n",
    "plt.show()"
   ]
  },
  {
   "cell_type": "code",
   "execution_count": null,
   "metadata": {
    "id": "dZYsOVaox9Nf"
   },
   "outputs": [],
   "source": []
  },
  {
   "cell_type": "markdown",
   "metadata": {
    "id": "mKHZI4BUmZ53"
   },
   "source": [
    "#References\n",
    "https://stackoverflow.com/questions/35169706/audio-feature-for-deep-learning"
   ]
  },
  {
   "cell_type": "markdown",
   "metadata": {
    "id": "SIlaPri8gNGg"
   },
   "source": [
    "https://towardsdatascience.com/10-minutes-to-building-a-cnn-binary-image-classifier-in-tensorflow-4e216b2034aa"
   ]
  },
  {
   "cell_type": "markdown",
   "metadata": {
    "id": "OSPNeLTsmg-Q"
   },
   "source": [
    "https://github.com/pietz/language-recognition/blob/master/data/train_list.csv"
   ]
  },
  {
   "cell_type": "markdown",
   "metadata": {
    "id": "Q9J2EsGBnO5H"
   },
   "source": [
    "https://examples.dask.org/applications/image-processing.html"
   ]
  },
  {
   "cell_type": "markdown",
   "metadata": {
    "id": "RN6bl9a1nh84"
   },
   "source": [
    "https://librosa.org/doc/main/generated/librosa.feature.spectral_centroid.html"
   ]
  },
  {
   "cell_type": "markdown",
   "metadata": {
    "id": "XG_mfJjtnx0F"
   },
   "source": [
    "https://stats.stackexchange.com/questions/426818/do-i-need-3-rgb-channels-for-a-spectrogram-cnn"
   ]
  },
  {
   "cell_type": "markdown",
   "metadata": {
    "id": "yboTsnhvn_wM"
   },
   "source": [
    "https://towardsdatascience.com/the-4-convolutional-neural-network-models-that-can-classify-your-fashion-images-9fe7f3e5399d"
   ]
  },
  {
   "cell_type": "markdown",
   "metadata": {
    "id": "fMJt9fh8oxHC"
   },
   "source": [
    "https://towardsdatascience.com/cnns-for-audio-classification-6244954665ab"
   ]
  },
  {
   "cell_type": "markdown",
   "metadata": {
    "id": "p7CbkxObNKnS"
   },
   "source": [
    "https://examples.dask.org/applications/image-processing.html"
   ]
  }
 ],
 "metadata": {
  "colab": {
   "collapsed_sections": [],
   "name": "AudioCNN2.ipynb",
   "provenance": []
  },
  "kernelspec": {
   "display_name": "Python 3",
   "language": "python",
   "name": "python3"
  },
  "language_info": {
   "codemirror_mode": {
    "name": "ipython",
    "version": 3
   },
   "file_extension": ".py",
   "mimetype": "text/x-python",
   "name": "python",
   "nbconvert_exporter": "python",
   "pygments_lexer": "ipython3",
   "version": "3.8.8"
  }
 },
 "nbformat": 4,
 "nbformat_minor": 1
}
